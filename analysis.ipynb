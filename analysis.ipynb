{
 "cells": [
  {
   "cell_type": "markdown",
   "metadata": {
    "slideshow": {
     "slide_type": "slide"
    }
   },
   "source": [
    "# Is Climate Change Real? How Do You Know?"
   ]
  },
  {
   "cell_type": "code",
   "execution_count": 1,
   "metadata": {
    "slideshow": {
     "slide_type": "slide"
    }
   },
   "outputs": [],
   "source": [
    "# make imports\n",
    "import pandas as pd\n",
    "import seaborn as sns\n",
    "import matplotlib.pyplot as plt\n",
    "import numpy as np\n",
    "from scipy import stats"
   ]
  },
  {
   "cell_type": "code",
   "execution_count": 2,
   "metadata": {
    "slideshow": {
     "slide_type": "slide"
    }
   },
   "outputs": [],
   "source": [
    "# read datasets (disasters)\n",
    "carbon_df = pd.read_csv('Data/carbon-emissions.csv')\n",
    "disasters_df = pd.read_csv('Data/natural-disaster-data/number-of-natural-disaster-events.csv')\n",
    "econ_df = pd.read_csv('Data/natural-disaster-data/economic-damage-from-natural-disasters.csv')"
   ]
  },
  {
   "cell_type": "markdown",
   "metadata": {
    "slideshow": {
     "slide_type": "slide"
    }
   },
   "source": [
    "# 1: Getting a \"Feel\" For the Data\n",
    "\n",
    "[Link to natural disasters dataset.](https://www.kaggle.com/dataenergy/natural-disaster-data)"
   ]
  },
  {
   "cell_type": "code",
   "execution_count": 3,
   "metadata": {
    "slideshow": {
     "slide_type": "subslide"
    }
   },
   "outputs": [
    {
     "data": {
      "text/html": [
       "<div>\n",
       "<style scoped>\n",
       "    .dataframe tbody tr th:only-of-type {\n",
       "        vertical-align: middle;\n",
       "    }\n",
       "\n",
       "    .dataframe tbody tr th {\n",
       "        vertical-align: top;\n",
       "    }\n",
       "\n",
       "    .dataframe thead th {\n",
       "        text-align: right;\n",
       "    }\n",
       "</style>\n",
       "<table border=\"1\" class=\"dataframe\">\n",
       "  <thead>\n",
       "    <tr style=\"text-align: right;\">\n",
       "      <th></th>\n",
       "      <th>Entity</th>\n",
       "      <th>Code</th>\n",
       "      <th>Year</th>\n",
       "      <th>Number of reported natural disasters (reported disasters)</th>\n",
       "    </tr>\n",
       "  </thead>\n",
       "  <tbody>\n",
       "    <tr>\n",
       "      <th>0</th>\n",
       "      <td>All natural disasters</td>\n",
       "      <td>NaN</td>\n",
       "      <td>1900</td>\n",
       "      <td>5</td>\n",
       "    </tr>\n",
       "    <tr>\n",
       "      <th>1</th>\n",
       "      <td>All natural disasters</td>\n",
       "      <td>NaN</td>\n",
       "      <td>1901</td>\n",
       "      <td>2</td>\n",
       "    </tr>\n",
       "    <tr>\n",
       "      <th>2</th>\n",
       "      <td>All natural disasters</td>\n",
       "      <td>NaN</td>\n",
       "      <td>1902</td>\n",
       "      <td>9</td>\n",
       "    </tr>\n",
       "    <tr>\n",
       "      <th>3</th>\n",
       "      <td>All natural disasters</td>\n",
       "      <td>NaN</td>\n",
       "      <td>1903</td>\n",
       "      <td>8</td>\n",
       "    </tr>\n",
       "    <tr>\n",
       "      <th>4</th>\n",
       "      <td>All natural disasters</td>\n",
       "      <td>NaN</td>\n",
       "      <td>1904</td>\n",
       "      <td>2</td>\n",
       "    </tr>\n",
       "  </tbody>\n",
       "</table>\n",
       "</div>"
      ],
      "text/plain": [
       "                  Entity  Code  Year  \\\n",
       "0  All natural disasters   NaN  1900   \n",
       "1  All natural disasters   NaN  1901   \n",
       "2  All natural disasters   NaN  1902   \n",
       "3  All natural disasters   NaN  1903   \n",
       "4  All natural disasters   NaN  1904   \n",
       "\n",
       "   Number of reported natural disasters (reported disasters)  \n",
       "0                                                  5          \n",
       "1                                                  2          \n",
       "2                                                  9          \n",
       "3                                                  8          \n",
       "4                                                  2          "
      ]
     },
     "execution_count": 3,
     "metadata": {},
     "output_type": "execute_result"
    }
   ],
   "source": [
    "# Look at the data for natural disasters\n",
    "disasters_df.head()"
   ]
  },
  {
   "cell_type": "code",
   "execution_count": 4,
   "metadata": {},
   "outputs": [],
   "source": [
    "# drop NaN values\n",
    "disasters_df = disasters_df.drop(columns='Code')\n",
    "econ_df = econ_df.drop(columns='Code')"
   ]
  },
  {
   "cell_type": "markdown",
   "metadata": {
    "slideshow": {
     "slide_type": "subslide"
    }
   },
   "source": [
    "## What Kinds of Values are There for \"Entity\"?"
   ]
  },
  {
   "cell_type": "code",
   "execution_count": 5,
   "metadata": {
    "slideshow": {
     "slide_type": "subslide"
    }
   },
   "outputs": [
    {
     "data": {
      "text/plain": [
       "array(['All natural disasters', 'Drought', 'Earthquake',\n",
       "       'Extreme temperature', 'Extreme weather', 'Flood', 'Impact',\n",
       "       'Landslide', 'Mass movement (dry)', 'Volcanic activity',\n",
       "       'Wildfire'], dtype=object)"
      ]
     },
     "execution_count": 5,
     "metadata": {},
     "output_type": "execute_result"
    }
   ],
   "source": [
    "disasters_df['Entity'].unique()"
   ]
  },
  {
   "cell_type": "markdown",
   "metadata": {
    "slideshow": {
     "slide_type": "subslide"
    }
   },
   "source": [
    "## Which Years Do We Have Data For?"
   ]
  },
  {
   "cell_type": "code",
   "execution_count": 6,
   "metadata": {
    "slideshow": {
     "slide_type": "subslide"
    }
   },
   "outputs": [
    {
     "data": {
      "text/plain": [
       "(1900, 2018)"
      ]
     },
     "execution_count": 6,
     "metadata": {},
     "output_type": "execute_result"
    }
   ],
   "source": [
    "(disasters_df['Year'].min(), disasters_df['Year'].max())"
   ]
  },
  {
   "cell_type": "markdown",
   "metadata": {
    "slideshow": {
     "slide_type": "slide"
    }
   },
   "source": [
    "# 2: How Are the Natural Disasters Changing Over Time?\n",
    "## Is Climate Change Real? "
   ]
  },
  {
   "cell_type": "markdown",
   "metadata": {
    "slideshow": {
     "slide_type": "subslide"
    }
   },
   "source": [
    "# Stats By the Decade: Measures of Central Tendency"
   ]
  },
  {
   "cell_type": "markdown",
   "metadata": {
    "slideshow": {
     "slide_type": "subslide"
    }
   },
   "source": [
    "# How does the mean number of natural disasters change by the decade?"
   ]
  },
  {
   "cell_type": "markdown",
   "metadata": {
    "slideshow": {
     "slide_type": "subslide"
    }
   },
   "source": [
    "# Functions to Compute Mean Amount of Disasters Annually, for a Given Decade"
   ]
  },
  {
   "cell_type": "code",
   "execution_count": 7,
   "metadata": {
    "slideshow": {
     "slide_type": "subslide"
    }
   },
   "outputs": [],
   "source": [
    "def grab_decade(start_yr, y_c_data, interval=10):\n",
    "    '''Return years and counts for only a specific interval length.'''\n",
    "    end_yr = int(start_yr) + interval - 1\n",
    "    years = y_c_data[(y_c_data['years'] <= end_yr) & (y_c_data['years'] >= start_yr)]\n",
    "    return years\n",
    "\n",
    "def compute_decade_mean(start_yr, y_c_data):\n",
    "    '''Sum the number of total disasters over a given period of 10 years, returns the mean.'''\n",
    "    years = grab_decade(start_yr, y_c_data)\n",
    "    # compute and return the mean\n",
    "    return years['counts'].sum() / 10"
   ]
  },
  {
   "cell_type": "markdown",
   "metadata": {
    "slideshow": {
     "slide_type": "subslide"
    }
   },
   "source": [
    "# Function to Perform This Step for all Decades 1900-2010"
   ]
  },
  {
   "cell_type": "code",
   "execution_count": 8,
   "metadata": {
    "slideshow": {
     "slide_type": "subslide"
    }
   },
   "outputs": [],
   "source": [
    "def compute_means(y_c_data):\n",
    "    '''Returns a dict of all mean number of disasters that occurred for every decade, 1900-2010.'''\n",
    "    # compute the amount of decades in our data\n",
    "    start_yr, end_yr = y_c_data['years'].min(), y_c_data['years'].max()\n",
    "    decades = (end_yr - start_yr) // 10\n",
    "    # store all the means in a dict\n",
    "    decade_means = dict()\n",
    "    for i in range(start_yr, end_yr, 10):\n",
    "        decade_means[f'{i}'] = compute_decade_mean(i, y_c_data)\n",
    "    return decade_means\n",
    "\n",
    "# Calling the function\n",
    "ALL_DIS = 'All natural disasters'\n",
    "COUNT = 'Number of reported natural disasters (reported disasters)'\n",
    "counts = disasters_df[(disasters_df['Entity'] == ALL_DIS)][COUNT]  # just the counts of all natural disasters, all years\n",
    "years = disasters_df[(disasters_df['Entity'] == ALL_DIS)]['Year']  # just the years\n",
    "y_c_data = pd.DataFrame(data={\n",
    "                        'years':years, \n",
    "                        'counts':counts})\n",
    "means_by_decade = compute_means(y_c_data)"
   ]
  },
  {
   "cell_type": "markdown",
   "metadata": {
    "slideshow": {
     "slide_type": "subslide"
    }
   },
   "source": [
    "# Plot of Changing Mean of Disaster Counts, By Decade"
   ]
  },
  {
   "cell_type": "code",
   "execution_count": 9,
   "metadata": {
    "slideshow": {
     "slide_type": "subslide"
    }
   },
   "outputs": [
    {
     "data": {
      "image/png": "[encoded data removed]",
      "text/plain": [
       "<Figure size 432x288 with 1 Axes>"
      ]
     },
     "metadata": {
      "needs_background": "light"
     },
     "output_type": "display_data"
    }
   ],
   "source": [
    "plt.plot(list(means_by_decade.keys()), list(means_by_decade.values()))\n",
    "plt.xlabel('Decade Start Year')\n",
    "plt.ylabel('Annual Mean Disaster Count')\n",
    "plt.title('Change in Decade Mean for Natural Disasters, 1900-2010')\n",
    "plt.show()"
   ]
  },
  {
   "cell_type": "markdown",
   "metadata": {
    "slideshow": {
     "slide_type": "subslide"
    }
   },
   "source": [
    "# How does the median number of natural disasters change by decade?¶"
   ]
  },
  {
   "cell_type": "markdown",
   "metadata": {
    "slideshow": {
     "slide_type": "subslide"
    }
   },
   "source": [
    "# Analogous Functions for the Medians By Decade"
   ]
  },
  {
   "cell_type": "code",
   "execution_count": 10,
   "metadata": {
    "slideshow": {
     "slide_type": "subslide"
    }
   },
   "outputs": [],
   "source": [
    "def compute_decade_median(start_yr, y_c_data):\n",
    "    '''Return the median of total disasters over a given period of 10 years.'''\n",
    "    years = grab_decade(start_yr, y_c_data)\n",
    "    # compute and return the median\n",
    "    return years['counts'].median()\n",
    "\n",
    "def compute_medians(y_c_data):\n",
    "    '''Returns a dict of all mean number of disasters that occurred for every decade, 1900-2010.'''\n",
    "    # compute the amount of decades in our data\n",
    "    start_yr, end_yr = y_c_data['years'].min(), y_c_data['years'].max()\n",
    "    decades = (end_yr - start_yr) // 10\n",
    "    # store all the medians in a dict\n",
    "    decade_medians = dict()\n",
    "    for i in range(start_yr, end_yr, 10):\n",
    "        decade_medians[f'{i}'] = compute_decade_median(i, y_c_data)\n",
    "    return decade_medians\n",
    "\n",
    "medians_by_decade = compute_medians(y_c_data)"
   ]
  },
  {
   "cell_type": "markdown",
   "metadata": {
    "slideshow": {
     "slide_type": "subslide"
    }
   },
   "source": [
    "# Plot the Change in Disaster Count Median, By Decade"
   ]
  },
  {
   "cell_type": "code",
   "execution_count": 11,
   "metadata": {
    "slideshow": {
     "slide_type": "subslide"
    }
   },
   "outputs": [
    {
     "data": {
      "image/png": "[encoded data removed]",
      "text/plain": [
       "<Figure size 432x288 with 1 Axes>"
      ]
     },
     "metadata": {
      "needs_background": "light"
     },
     "output_type": "display_data"
    }
   ],
   "source": [
    "plt.plot(list(medians_by_decade.keys()), list(medians_by_decade.values()))\n",
    "plt.xlabel('Decade Start Year')\n",
    "plt.ylabel('Median Disaster Count')\n",
    "plt.title('Change in Decade Median for Natural Disasters, 1900-2010')\n",
    "plt.show()"
   ]
  },
  {
   "cell_type": "markdown",
   "metadata": {
    "slideshow": {
     "slide_type": "subslide"
    }
   },
   "source": [
    "# Wait, what? \n",
    "## Why the drop around 2000?"
   ]
  },
  {
   "cell_type": "markdown",
   "metadata": {
    "slideshow": {
     "slide_type": "subslide"
    }
   },
   "source": [
    "# Watch out! For people who only show you the data for the last decade, there's more if we look closely (at the annual data)!"
   ]
  },
  {
   "cell_type": "code",
   "execution_count": 12,
   "metadata": {
    "slideshow": {
     "slide_type": "subslide"
    }
   },
   "outputs": [
    {
     "data": {
      "image/png": "[encoded data removed]",
      "text/plain": [
       "<Figure size 432x288 with 1 Axes>"
      ]
     },
     "metadata": {
      "needs_background": "light"
     },
     "output_type": "display_data"
    }
   ],
   "source": [
    "counts = disasters_df[(disasters_df['Entity'] == 'All natural disasters') & (disasters_df['Year'] >= 2000) & (disasters_df['Year'] <= 2010)]['Number of reported natural disasters (reported disasters)']\n",
    "plt.plot(list(range(2000, 2011)), counts)\n",
    "plt.xlabel('Year')\n",
    "plt.ylabel('Annual Mean Disaster Count')\n",
    "plt.title('Change in Natural Disaster Count, 2000-2010')\n",
    "plt.show()"
   ]
  },
  {
   "cell_type": "markdown",
   "metadata": {
    "slideshow": {
     "slide_type": "subslide"
    }
   },
   "source": [
    "# Our Data is Subject to Regression to the Mean!\n",
    "## How can we reach better conclusions*?\n",
    "### **Without just getting more data*"
   ]
  },
  {
   "cell_type": "markdown",
   "metadata": {
    "slideshow": {
     "slide_type": "slide"
    }
   },
   "source": [
    "# 3: Bayes' Theorem\n",
    "## $ P(A|B) = \\frac{P(A and B)}{P(A)} $"
   ]
  },
  {
   "cell_type": "markdown",
   "metadata": {
    "slideshow": {
     "slide_type": "subslide"
    }
   },
   "source": [
    "# Given a year is between 2000-2018, what is the chance that it's number of total disasters is greater than the average number of disasters for all years 1900-2018?"
   ]
  },
  {
   "cell_type": "markdown",
   "metadata": {
    "slideshow": {
     "slide_type": "subslide"
    }
   },
   "source": [
    "### In our scenario:\n",
    "\n",
    "### $ P(A|B) $ = P(Year Has More Natural Disasters than the Mean for All Years 1900-2018, Given Year is 2000-2018)\n",
    "\n",
    "### $ P(A) $ = P(Year is Between 2000-2018) "
   ]
  },
  {
   "cell_type": "markdown",
   "metadata": {
    "slideshow": {
     "slide_type": "subslide"
    }
   },
   "source": [
    "# What is the mean number of total natural disasters annually, for all years 1900-2018?"
   ]
  },
  {
   "cell_type": "code",
   "execution_count": 13,
   "metadata": {
    "slideshow": {
     "slide_type": "subslide"
    }
   },
   "outputs": [
    {
     "data": {
      "text/plain": [
       "111.02521008403362"
      ]
     },
     "execution_count": 13,
     "metadata": {},
     "output_type": "execute_result"
    }
   ],
   "source": [
    "# find all rows reporting \"all natural disasters\"\n",
    "COUNT = 'Number of reported natural disasters (reported disasters)'\n",
    "all_disasters = disasters_df[disasters_df['Entity'] == 'All natural disasters'][COUNT]\n",
    "# sum them together, divide by their number\n",
    "mean_disasters = np.sum(all_disasters) / len(all_disasters)\n",
    "# print the mean\n",
    "mean_disasters"
   ]
  },
  {
   "cell_type": "markdown",
   "metadata": {
    "slideshow": {
     "slide_type": "subslide"
    }
   },
   "source": [
    "# How Many Years Between 1900-2018 Have More Than This Mean?"
   ]
  },
  {
   "cell_type": "code",
   "execution_count": 14,
   "metadata": {
    "slideshow": {
     "slide_type": "subslide"
    }
   },
   "outputs": [
    {
     "data": {
      "text/plain": [
       "42"
      ]
     },
     "execution_count": 14,
     "metadata": {},
     "output_type": "execute_result"
    }
   ],
   "source": [
    "count = 0\n",
    "for num in all_disasters:\n",
    "    if num > mean_disasters:\n",
    "        count += 1\n",
    "count"
   ]
  },
  {
   "cell_type": "markdown",
   "metadata": {
    "slideshow": {
     "slide_type": "subslide"
    }
   },
   "source": [
    "##  Do all years 2000-2018 have more total disasters than the mean?"
   ]
  },
  {
   "cell_type": "code",
   "execution_count": 15,
   "metadata": {
    "slideshow": {
     "slide_type": "subslide"
    }
   },
   "outputs": [
    {
     "name": "stdout",
     "output_type": "stream",
     "text": [
      "100.0%\n"
     ]
    }
   ],
   "source": [
    "all_disasters_years_and_counts = disasters_df[(disasters_df['Entity'] == 'All natural disasters')]\n",
    "years_2000_2018 = all_disasters_years_and_counts.tail(19)\n",
    "count = 0\n",
    "for num in years_2000_2018['Number of reported natural disasters (reported disasters)']:\n",
    "    if num > mean_disasters:\n",
    "        count += 1\n",
    "        \n",
    "percent_val = round((count/19) * 100, 2)  \n",
    "print(f'{percent_val}%')  # have all these years surpassed the mean we calculated?"
   ]
  },
  {
   "cell_type": "markdown",
   "metadata": {
    "slideshow": {
     "slide_type": "subslide"
    }
   },
   "source": [
    "# So, What's the Chance that a Year has an Above Average Number of Natural Disasters, given the year is 2000-2018, than the mean of all 118 years?"
   ]
  },
  {
   "cell_type": "code",
   "execution_count": 16,
   "metadata": {
    "slideshow": {
     "slide_type": "subslide"
    }
   },
   "outputs": [
    {
     "name": "stdout",
     "output_type": "stream",
     "text": [
      "42.86%\n"
     ]
    }
   ],
   "source": [
    "print(f'{round((18/42) * 100, 2)}%')"
   ]
  },
  {
   "cell_type": "markdown",
   "metadata": {
    "slideshow": {
     "slide_type": "slide"
    }
   },
   "source": [
    "# Bayes' Theorem, pt. 2\n",
    "### Do we really need to set 2000 as our checkpoint?\n",
    "\n",
    "# Given a year is between 2000-2018, what is the chance that it's number of total disasters is greater than the average number of disasters for all years 1900-2000?"
   ]
  },
  {
   "cell_type": "code",
   "execution_count": 17,
   "metadata": {
    "slideshow": {
     "slide_type": "subslide"
    }
   },
   "outputs": [
    {
     "name": "stdout",
     "output_type": "stream",
     "text": [
      "100.0%\n"
     ]
    }
   ],
   "source": [
    "# slice the DataFrame by century\n",
    "disasters_20th = disasters_df[(disasters_df['Entity'] == 'All natural disasters') & (disasters_df['Year'] <= 1999) & (disasters_df['Year'] >= 1900)]\n",
    "disasters_21st = disasters_df[(disasters_df['Entity'] == 'All natural disasters') & (disasters_df['Year'] >= 2000) & (disasters_df['Year'] <= 2018)]\n",
    "\n",
    "# find the mean annual number of disasters in the 20th century\n",
    "mean_20th = disasters_20th[COUNT].values.mean()\n",
    "\n",
    "# compute the percent of years in the 21st century which is greater than this value\n",
    "percent_over = len(disasters_21st[disasters_21st[COUNT] > mean_20th]) / len(disasters_21st) * 100\n",
    "print(f'{percent_over}%')"
   ]
  },
  {
   "cell_type": "markdown",
   "metadata": {
    "slideshow": {
     "slide_type": "subslide"
    }
   },
   "source": [
    "# So how does the probability we're looking for, differ from the one before?"
   ]
  },
  {
   "cell_type": "code",
   "execution_count": 18,
   "metadata": {
    "slideshow": {
     "slide_type": "subslide"
    }
   },
   "outputs": [
    {
     "name": "stdout",
     "output_type": "stream",
     "text": [
      "37.5%\n"
     ]
    }
   ],
   "source": [
    "# find the total number of years with counts above the mean_20th\n",
    "count_above_mean = len(all_disasters[all_disasters > mean_20th])\n",
    "print(f'{round((18/count_above_mean) * 100, 2)}%')"
   ]
  },
  {
   "cell_type": "markdown",
   "metadata": {
    "slideshow": {
     "slide_type": "slide"
    }
   },
   "source": [
    "# 4: Distribution of Disasters\n",
    "\n",
    "# What is the distribution of natural disasters over the years 1900-1999? 2000-2018?"
   ]
  },
  {
   "cell_type": "code",
   "execution_count": 19,
   "metadata": {
    "slideshow": {
     "slide_type": "subslide"
    }
   },
   "outputs": [
    {
     "data": {
      "text/html": [
       "<div>\n",
       "<style scoped>\n",
       "    .dataframe tbody tr th:only-of-type {\n",
       "        vertical-align: middle;\n",
       "    }\n",
       "\n",
       "    .dataframe tbody tr th {\n",
       "        vertical-align: top;\n",
       "    }\n",
       "\n",
       "    .dataframe thead th {\n",
       "        text-align: right;\n",
       "    }\n",
       "</style>\n",
       "<table border=\"1\" class=\"dataframe\">\n",
       "  <thead>\n",
       "    <tr style=\"text-align: right;\">\n",
       "      <th></th>\n",
       "      <th>Entity</th>\n",
       "      <th>Year</th>\n",
       "      <th>Number of reported natural disasters (reported disasters)</th>\n",
       "    </tr>\n",
       "  </thead>\n",
       "  <tbody>\n",
       "    <tr>\n",
       "      <th>0</th>\n",
       "      <td>All natural disasters</td>\n",
       "      <td>1900</td>\n",
       "      <td>5</td>\n",
       "    </tr>\n",
       "    <tr>\n",
       "      <th>1</th>\n",
       "      <td>All natural disasters</td>\n",
       "      <td>1901</td>\n",
       "      <td>2</td>\n",
       "    </tr>\n",
       "    <tr>\n",
       "      <th>2</th>\n",
       "      <td>All natural disasters</td>\n",
       "      <td>1902</td>\n",
       "      <td>9</td>\n",
       "    </tr>\n",
       "    <tr>\n",
       "      <th>3</th>\n",
       "      <td>All natural disasters</td>\n",
       "      <td>1903</td>\n",
       "      <td>8</td>\n",
       "    </tr>\n",
       "    <tr>\n",
       "      <th>4</th>\n",
       "      <td>All natural disasters</td>\n",
       "      <td>1904</td>\n",
       "      <td>2</td>\n",
       "    </tr>\n",
       "    <tr>\n",
       "      <th>...</th>\n",
       "      <td>...</td>\n",
       "      <td>...</td>\n",
       "      <td>...</td>\n",
       "    </tr>\n",
       "    <tr>\n",
       "      <th>114</th>\n",
       "      <td>All natural disasters</td>\n",
       "      <td>2014</td>\n",
       "      <td>320</td>\n",
       "    </tr>\n",
       "    <tr>\n",
       "      <th>115</th>\n",
       "      <td>All natural disasters</td>\n",
       "      <td>2015</td>\n",
       "      <td>380</td>\n",
       "    </tr>\n",
       "    <tr>\n",
       "      <th>116</th>\n",
       "      <td>All natural disasters</td>\n",
       "      <td>2016</td>\n",
       "      <td>325</td>\n",
       "    </tr>\n",
       "    <tr>\n",
       "      <th>117</th>\n",
       "      <td>All natural disasters</td>\n",
       "      <td>2017</td>\n",
       "      <td>276</td>\n",
       "    </tr>\n",
       "    <tr>\n",
       "      <th>118</th>\n",
       "      <td>All natural disasters</td>\n",
       "      <td>2018</td>\n",
       "      <td>282</td>\n",
       "    </tr>\n",
       "  </tbody>\n",
       "</table>\n",
       "<p>119 rows × 3 columns</p>\n",
       "</div>"
      ],
      "text/plain": [
       "                    Entity  Year  \\\n",
       "0    All natural disasters  1900   \n",
       "1    All natural disasters  1901   \n",
       "2    All natural disasters  1902   \n",
       "3    All natural disasters  1903   \n",
       "4    All natural disasters  1904   \n",
       "..                     ...   ...   \n",
       "114  All natural disasters  2014   \n",
       "115  All natural disasters  2015   \n",
       "116  All natural disasters  2016   \n",
       "117  All natural disasters  2017   \n",
       "118  All natural disasters  2018   \n",
       "\n",
       "     Number of reported natural disasters (reported disasters)  \n",
       "0                                                    5          \n",
       "1                                                    2          \n",
       "2                                                    9          \n",
       "3                                                    8          \n",
       "4                                                    2          \n",
       "..                                                 ...          \n",
       "114                                                320          \n",
       "115                                                380          \n",
       "116                                                325          \n",
       "117                                                276          \n",
       "118                                                282          \n",
       "\n",
       "[119 rows x 3 columns]"
      ]
     },
     "execution_count": 19,
     "metadata": {},
     "output_type": "execute_result"
    }
   ],
   "source": [
    "# let's take another look at that data\n",
    "all_disasters_years_and_counts"
   ]
  },
  {
   "cell_type": "markdown",
   "metadata": {
    "slideshow": {
     "slide_type": "subslide"
    }
   },
   "source": [
    "# Breaking it Down Even Further\n",
    "## Years and Counts"
   ]
  },
  {
   "cell_type": "code",
   "execution_count": 20,
   "metadata": {
    "slideshow": {
     "slide_type": "subslide"
    }
   },
   "outputs": [
    {
     "data": {
      "text/html": [
       "<div>\n",
       "<style scoped>\n",
       "    .dataframe tbody tr th:only-of-type {\n",
       "        vertical-align: middle;\n",
       "    }\n",
       "\n",
       "    .dataframe tbody tr th {\n",
       "        vertical-align: top;\n",
       "    }\n",
       "\n",
       "    .dataframe thead th {\n",
       "        text-align: right;\n",
       "    }\n",
       "</style>\n",
       "<table border=\"1\" class=\"dataframe\">\n",
       "  <thead>\n",
       "    <tr style=\"text-align: right;\">\n",
       "      <th></th>\n",
       "      <th>years</th>\n",
       "      <th>counts</th>\n",
       "    </tr>\n",
       "  </thead>\n",
       "  <tbody>\n",
       "    <tr>\n",
       "      <th>0</th>\n",
       "      <td>1900</td>\n",
       "      <td>5</td>\n",
       "    </tr>\n",
       "    <tr>\n",
       "      <th>1</th>\n",
       "      <td>1901</td>\n",
       "      <td>2</td>\n",
       "    </tr>\n",
       "    <tr>\n",
       "      <th>2</th>\n",
       "      <td>1902</td>\n",
       "      <td>9</td>\n",
       "    </tr>\n",
       "    <tr>\n",
       "      <th>3</th>\n",
       "      <td>1903</td>\n",
       "      <td>8</td>\n",
       "    </tr>\n",
       "    <tr>\n",
       "      <th>4</th>\n",
       "      <td>1904</td>\n",
       "      <td>2</td>\n",
       "    </tr>\n",
       "    <tr>\n",
       "      <th>...</th>\n",
       "      <td>...</td>\n",
       "      <td>...</td>\n",
       "    </tr>\n",
       "    <tr>\n",
       "      <th>114</th>\n",
       "      <td>2014</td>\n",
       "      <td>320</td>\n",
       "    </tr>\n",
       "    <tr>\n",
       "      <th>115</th>\n",
       "      <td>2015</td>\n",
       "      <td>380</td>\n",
       "    </tr>\n",
       "    <tr>\n",
       "      <th>116</th>\n",
       "      <td>2016</td>\n",
       "      <td>325</td>\n",
       "    </tr>\n",
       "    <tr>\n",
       "      <th>117</th>\n",
       "      <td>2017</td>\n",
       "      <td>276</td>\n",
       "    </tr>\n",
       "    <tr>\n",
       "      <th>118</th>\n",
       "      <td>2018</td>\n",
       "      <td>282</td>\n",
       "    </tr>\n",
       "  </tbody>\n",
       "</table>\n",
       "<p>119 rows × 2 columns</p>\n",
       "</div>"
      ],
      "text/plain": [
       "     years  counts\n",
       "0     1900       5\n",
       "1     1901       2\n",
       "2     1902       9\n",
       "3     1903       8\n",
       "4     1904       2\n",
       "..     ...     ...\n",
       "114   2014     320\n",
       "115   2015     380\n",
       "116   2016     325\n",
       "117   2017     276\n",
       "118   2018     282\n",
       "\n",
       "[119 rows x 2 columns]"
      ]
     },
     "execution_count": 20,
     "metadata": {},
     "output_type": "execute_result"
    }
   ],
   "source": [
    "y_c_data"
   ]
  },
  {
   "cell_type": "markdown",
   "metadata": {
    "slideshow": {
     "slide_type": "subslide"
    }
   },
   "source": [
    "# Bar Plot"
   ]
  },
  {
   "cell_type": "code",
   "execution_count": 24,
   "metadata": {
    "slideshow": {
     "slide_type": "subslide"
    }
   },
   "outputs": [
    {
     "data": {
      "image/png": "[encoded data removed]",
      "text/plain": [
       "<Figure size 432x288 with 1 Axes>"
      ]
     },
     "metadata": {
      "needs_background": "light"
     },
     "output_type": "display_data"
    }
   ],
   "source": [
    "plt.bar(y_c_data['years'], y_c_data['counts'])\n",
    "plt.title('All Natural Disasters Globally, From 1900-2018')\n",
    "plt.ylabel('Total Count')\n",
    "plt.xlabel('Year')\n",
    "plt.show()"
   ]
  },
  {
   "cell_type": "markdown",
   "metadata": {
    "slideshow": {
     "slide_type": "slide"
    }
   },
   "source": [
    "# Is the Distribution of Disasters \"Balanced\" Between the Centuries?"
   ]
  },
  {
   "cell_type": "markdown",
   "metadata": {
    "slideshow": {
     "slide_type": "subslide"
    }
   },
   "source": [
    "# What's the probability that any given natural disaster between 1900-2018, happened 1900-1999? "
   ]
  },
  {
   "cell_type": "code",
   "execution_count": null,
   "metadata": {
    "slideshow": {
     "slide_type": "subslide"
    }
   },
   "outputs": [],
   "source": [
    "def probability_for_interval(start_year, end_year):\n",
    "    # take the sum of all natural disasters that occurred 1900-2018\n",
    "    sum_all = y_c_data['counts'].sum()\n",
    "    # take the sum that happen over the interval\n",
    "    yrs_in_range = y_c_data[(y_c_data['years'] < end_year) & (y_c_data['years'] > start_year)]\n",
    "    sum_yrs = yrs_in_range['counts'].sum()\n",
    "    # return the probability\n",
    "    percent = round((sum_yrs/sum_all) * 100, 2)\n",
    "    return percent\n",
    "    \n",
    "prob_20th = probability_for_interval(1900, 2000)\n",
    "print(f'{prob_20th}%')"
   ]
  },
  {
   "cell_type": "markdown",
   "metadata": {
    "slideshow": {
     "slide_type": "subslide"
    }
   },
   "source": [
    "# What About 2000-2018?"
   ]
  },
  {
   "cell_type": "code",
   "execution_count": null,
   "metadata": {
    "slideshow": {
     "slide_type": "subslide"
    }
   },
   "outputs": [],
   "source": [
    "prob_21st = probability_for_interval(2000, 2018)\n",
    "print(f'{prob_21st}%')"
   ]
  },
  {
   "cell_type": "code",
   "execution_count": null,
   "metadata": {
    "slideshow": {
     "slide_type": "subslide"
    }
   },
   "outputs": [],
   "source": [
    "plt.pie([prob_20th, prob_21st], labels=['20th', '21st'])\n",
    "plt.title('Relative Frequency of Natural Disasters in 20th & 21st Centuries')\n",
    "plt.show()"
   ]
  },
  {
   "cell_type": "markdown",
   "metadata": {
    "slideshow": {
     "slide_type": "slide"
    }
   },
   "source": [
    "# 5: What Happens if We Remove Outliers?"
   ]
  },
  {
   "cell_type": "markdown",
   "metadata": {
    "slideshow": {
     "slide_type": "subslide"
    }
   },
   "source": [
    "# We need* to take a lot at our IQR!\n",
    "\n",
    "### **because we don't have a normal distribution*\n"
   ]
  },
  {
   "cell_type": "code",
   "execution_count": null,
   "metadata": {
    "slideshow": {
     "slide_type": "subslide"
    }
   },
   "outputs": [],
   "source": [
    "def find_remove_outlier_iqr(disaster_counts):\n",
    "    '''Remove the outliers from the dataset of annual total nautral disasters.'''\n",
    "    # calculate interquartile range\n",
    "    q25, q75 = np.percentile(disaster_counts, 25), np.percentile(disaster_counts, 75)\n",
    "    iqr = q75 - q25\n",
    "    print(f'This is the IQR: {iqr}')\n",
    "    # calculate the outlier cutoff\n",
    "    cut_off = iqr * 1.5\n",
    "    lower, upper = q25 - cut_off, q75 + cut_off\n",
    "    # identify outliers\n",
    "    outliers = [x for x in disaster_counts if x < lower or x > upper]\n",
    "    # remove outliers\n",
    "    outliers_removed = [x for x in disaster_counts if x > lower and x < upper]\n",
    "    return outliers\n",
    "\n",
    "print(f'Number of outliers removed from the data: {len(find_remove_outlier_iqr(counts))}')"
   ]
  },
  {
   "cell_type": "code",
   "execution_count": null,
   "metadata": {
    "slideshow": {
     "slide_type": "subslide"
    }
   },
   "outputs": [],
   "source": [
    "# show box plot\n",
    "counts = all_disasters_years_and_counts['Number of reported natural disasters (reported disasters)']\n",
    "plt.boxplot(counts)\n",
    "plt.title(\"Box Plot of Annual Natural Disasters, 1900-2018\")\n",
    "plt.ylabel(\"Count of Natural Disasters\")\n",
    "plt.xlabel(\"Years 1900-2018\")\n",
    "plt.show()"
   ]
  },
  {
   "cell_type": "markdown",
   "metadata": {
    "slideshow": {
     "slide_type": "slide"
    }
   },
   "source": [
    "# 6: Correlations: How Has the Amount of Carbon Emissions Looked Over the Turn of the Century?"
   ]
  },
  {
   "cell_type": "markdown",
   "metadata": {
    "slideshow": {
     "slide_type": "subslide"
    }
   },
   "source": [
    "# Getting a Feel of the Carbon Emissions Data\n",
    "\n",
    "## This provides the monthly carbon emissions from electricity generation, by the Energy Information Administration.\n",
    "\n",
    "[Link to the dataset](https://www.kaggle.com/txtrouble/carbon-emissions)."
   ]
  },
  {
   "cell_type": "code",
   "execution_count": null,
   "metadata": {
    "slideshow": {
     "slide_type": "subslide"
    }
   },
   "outputs": [],
   "source": [
    "carbon_df.head()\n",
    "carbon_df['Description'].values"
   ]
  },
  {
   "cell_type": "code",
   "execution_count": null,
   "metadata": {
    "slideshow": {
     "slide_type": "subslide"
    }
   },
   "outputs": [],
   "source": [
    "carbon_df.tail()"
   ]
  },
  {
   "cell_type": "markdown",
   "metadata": {
    "slideshow": {
     "slide_type": "subslide"
    }
   },
   "source": [
    "# Plot the Change in Carbon Emissions Annually, from 1973-2016\n"
   ]
  },
  {
   "cell_type": "code",
   "execution_count": null,
   "metadata": {
    "slideshow": {
     "slide_type": "subslide"
    }
   },
   "outputs": [],
   "source": [
    "# store the annual emissions count in a dict\n",
    "years_emissions = dict()\n",
    "# just look at emissions from total electric output\n",
    "carbon_total = carbon_df[carbon_df['Description'] == 'Total Energy Electric Power Sector CO2 Emissions']\n",
    "# traverse through the years\n",
    "for i in range(197300, 201700, 100):\n",
    "    # find all the rows in the data for the year we're currently on\n",
    "    year = carbon_total[(carbon_total['YYYYMM'] >= i) & (carbon_total['YYYYMM'] <= i + 12)]\n",
    "    # sum the emissisons for that one year\n",
    "    sum = 0.0\n",
    "    for value in year['Value']:\n",
    "        # handle the invalid values\n",
    "        if value == 'Not Available':\n",
    "            value = 0.0\n",
    "        sum += float(value)\n",
    "    # store it in the dict\n",
    "    years_emissions[int(i/100)] = sum\n",
    "# Voila! A dict of all years and their emissions counts, 1973-2016\n",
    "print(years_emissions)\n",
    "# One of the things to note in this data is that NaN values were replaced 0, but this is likely far from the\n",
    "# true number of emissions made that month"
   ]
  },
  {
   "cell_type": "code",
   "execution_count": null,
   "metadata": {
    "slideshow": {
     "slide_type": "subslide"
    }
   },
   "outputs": [],
   "source": [
    "plt.plot(list(years_emissions.keys()), list(years_emissions.values()))\n",
    "plt.title('Annual Carbon Emissions from Electricity Generation, 1973-2016')\n",
    "plt.xlabel('Year')\n",
    "plt.ylabel('Million Metric Tons of Carbon Dioxide')\n",
    "plt.show()"
   ]
  },
  {
   "cell_type": "markdown",
   "metadata": {
    "slideshow": {
     "slide_type": "slide"
    }
   },
   "source": [
    "# Wait, emissions are going down?\n",
    "## Remember, this Data was Only for the Emissions Produced for Electricity in the U.S.!\n",
    "\n",
    "[Globally, emissions are up](https://www.wri.org/blog/2018/12/new-global-co2-emissions-numbers-are-they-re-not-good)."
   ]
  },
  {
   "cell_type": "markdown",
   "metadata": {
    "slideshow": {
     "slide_type": "slide"
    }
   },
   "source": [
    "# 7: The (Economic) Cost of Natural Disasters"
   ]
  },
  {
   "cell_type": "markdown",
   "metadata": {
    "slideshow": {
     "slide_type": "subslide"
    }
   },
   "source": [
    "# Getting a Feel for the Economic Data\n",
    "[Link to dataset, same as for the natural disasters data.](https://www.kaggle.com/dataenergy/natural-disaster-data)"
   ]
  },
  {
   "cell_type": "code",
   "execution_count": null,
   "metadata": {
    "slideshow": {
     "slide_type": "subslide"
    }
   },
   "outputs": [],
   "source": [
    "econ_df.head()"
   ]
  },
  {
   "cell_type": "markdown",
   "metadata": {
    "slideshow": {
     "slide_type": "slide"
    }
   },
   "source": [
    "# Let's Combine This DataFrame with the Disasters Data!"
   ]
  },
  {
   "cell_type": "code",
   "execution_count": null,
   "metadata": {
    "slideshow": {
     "slide_type": "subslide"
    }
   },
   "outputs": [],
   "source": [
    "# combining datasets\n",
    "df = disasters_df.rename(columns={'Number of reported natural disasters (reported disasters)': 'Disaster Count'})\n",
    "df2 = econ_df.rename(columns={'Total economic damage from natural disasters (US$)':'Cost'})\n",
    "df['Cost'] = df2['Cost']\n",
    "df.head(119)"
   ]
  },
  {
   "cell_type": "markdown",
   "metadata": {
    "slideshow": {
     "slide_type": "slide"
    }
   },
   "source": [
    "# Change in Economic Cost Over Time - Is it Normal?"
   ]
  },
  {
   "cell_type": "code",
   "execution_count": null,
   "metadata": {
    "slideshow": {
     "slide_type": "subslide"
    }
   },
   "outputs": [],
   "source": [
    "dollars = df[df['Entity'] == 'All natural disasters']['Cost']\n",
    "plt.bar(years, dollars)\n",
    "plt.title('Cost of Nautral Disasters Globally, 1900-2018')\n",
    "plt.ylabel('Total Cost (USD)')\n",
    "plt.xlabel('Year')\n",
    "plt.show()"
   ]
  },
  {
   "cell_type": "markdown",
   "metadata": {
    "slideshow": {
     "slide_type": "subslide"
    }
   },
   "source": [
    "### Warning About the Above Bar Plot!\n",
    " I **do not** currently know whether or not the costs reported in the dataset are **adjusted for inflation.**\n",
    "\n",
    "If it turns out the costs are not, we can only take the distribution with a grain of salt. **We don't really know if the disasters are costlier in terms of value, or if it's just inflation making everything more expensive over time.**"
   ]
  },
  {
   "cell_type": "markdown",
   "metadata": {
    "slideshow": {
     "slide_type": "subslide"
    }
   },
   "source": [
    "# Heatmap"
   ]
  },
  {
   "cell_type": "code",
   "execution_count": null,
   "metadata": {
    "slideshow": {
     "slide_type": "subslide"
    }
   },
   "outputs": [],
   "source": [
    "fig, ax = plt.subplots(figsize=(10,10))\n",
    "sns.heatmap(df.corr(), annot=True)\n",
    "plt.title('Correlation Between Costs Against Counts')\n",
    "plt.show()"
   ]
  },
  {
   "cell_type": "markdown",
   "metadata": {
    "slideshow": {
     "slide_type": "slide"
    }
   },
   "source": [
    "# Null Hypothesis\n",
    "\n",
    "### We know that both the count and cost of total natural disasters annually, rises around the turn of the century.\n",
    "\n",
    "## Someone may claim,\n",
    "\n",
    "# The higher mean count of total natural disasters globally in the 21st century, will mean more expensive costs due to disasters in this century than the one prior.\n",
    "\n",
    "## Do we accept or reject this?"
   ]
  },
  {
   "cell_type": "markdown",
   "metadata": {
    "slideshow": {
     "slide_type": "subslide"
    }
   },
   "source": [
    "# 1 Sample T-Test\n",
    "\n",
    "**Why?**\n",
    "\n",
    "This is 1 sample because as I'm sure you realize, Earth is the only planet like Earth for which we humans can calculate economic challenges due to natural disasters..\n",
    "\n",
    "\"The 1-sample t-test is used when we want to compare a sample mean to a population mean (which we already know).\" [quote from iaingallagher blog, \"t-tests in python\"](https://iaingallagher.tumblr.com/post/50980987285/t-tests-in-python).\n",
    "\n",
    "In our scenario we can already calculate the mean cost of natural disasters for all years 1900-2018, and then use the t-test to conclude whether the years in the 21st century are exceptionally high, when there were higher numbers of natural disasters (as shown earlier).\n"
   ]
  },
  {
   "cell_type": "code",
   "execution_count": null,
   "metadata": {
    "slideshow": {
     "slide_type": "subslide"
    }
   },
   "outputs": [],
   "source": [
    "# 1-sample t-test\n",
    "# get a list of the costs of disasters for just the 21st century\n",
    "costs = df[df['Entity'] == 'All natural disasters']['Cost'].values\n",
    "costs_21 = df[(df['Entity'] == 'All natural disasters') & (df['Year'] <= 2018) & (df['Year'] >= 2000)]['Cost'].values\n",
    "\n",
    "# calculate the mean cost annually due to disasters, for whole population (1900-2018)\n",
    "pop_mean = costs.mean()\n",
    "\n",
    "# run the test\n",
    "t, p = stats.ttest_1samp(costs_21, pop_mean)\n",
    "\n",
    "# see the results\n",
    "print(f\"The t-statistic is {t} and the p-value is {p}.\")"
   ]
  },
  {
   "cell_type": "markdown",
   "metadata": {
    "slideshow": {
     "slide_type": "slide"
    }
   },
   "source": [
    "# Summary of Findings"
   ]
  },
  {
   "cell_type": "markdown",
   "metadata": {
    "slideshow": {
     "slide_type": "subslide"
    }
   },
   "source": [
    "# 1. Rising Above (and Below) the Mean\n",
    "\n",
    "## By the decade, the mean and median count of natural disasters rises throughout the 20th century, and have dropped (so far) during the 21st century.\n",
    "## Reason why? Possibly due to regression to the mean, because truly the natural disaster counts of the 2000's decade fluctuates up and down."
   ]
  },
  {
   "cell_type": "markdown",
   "metadata": {
    "slideshow": {
     "slide_type": "subslide"
    }
   },
   "source": [
    "# 2. Disasters in the 21st Century\n",
    "\n",
    "## The population subset of years 2000-2018 make up:\n",
    "- 37.5% of those years that have above average number of total natural disasters, compared to the annual mean of the 20th century (1900-2000).\n",
    "- and nearly 43% of all years that have above average number of total natural disasters (1900-2018)\n"
   ]
  },
  {
   "cell_type": "markdown",
   "metadata": {
    "slideshow": {
     "slide_type": "subslide"
    }
   },
   "source": [
    "# 3. Distribution Across Centuries\n",
    "## The relative frequency of natural disasters within the first 18 years of this century, is nearly half to that of the entirety of the previous century."
   ]
  },
  {
   "cell_type": "markdown",
   "metadata": {
    "slideshow": {
     "slide_type": "subslide"
    }
   },
   "source": [
    "# 4. Skewing Our Data?\n",
    "## None of the natural diaster counts in our dataset constitute as outliers, suggesting some correlation is possible between how the counts have changed over time, with other variables."
   ]
  },
  {
   "cell_type": "markdown",
   "metadata": {
    "slideshow": {
     "slide_type": "subslide"
    }
   },
   "source": [
    "# 5: Correlation to Carbon Emissions\n",
    "\n",
    "## According to the data provided by the EIA, over the turn of the century the number of carbon emissions due to total electricity generation in the U.S. has decreased annually."
   ]
  },
  {
   "cell_type": "markdown",
   "metadata": {
    "slideshow": {
     "slide_type": "subslide"
    }
   },
   "source": [
    "# 6: Correlation to Economic Damages\n",
    "## Because the p-value of t-test  is less than 0.05, we can accept that as disasters go up, so will their costliness! \n",
    "\n",
    "## Perhaps we would already have expected this?\n",
    "\n",
    "## The amount that inflation factors into the cost is currently unknown."
   ]
  }
 ],
 "metadata": {
  "celltoolbar": "Slideshow",
  "kernelspec": {
   "display_name": "Python 3",
   "language": "python",
   "name": "python3"
  },
  "language_info": {
   "codemirror_mode": {
    "name": "ipython",
    "version": 3
   },
   "file_extension": ".py",
   "mimetype": "text/x-python",
   "name": "python",
   "nbconvert_exporter": "python",
   "pygments_lexer": "ipython3",
   "version": "3.7.6"
  }
 },
 "nbformat": 4,
 "nbformat_minor": 4
}
