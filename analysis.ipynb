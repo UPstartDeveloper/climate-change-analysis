{
 "cells": [
  {
   "cell_type": "markdown",
   "metadata": {
    "slideshow": {
     "slide_type": "slide"
    }
   },
   "source": [
    "# Is Climate Change Real? How Do You Know?"
   ]
  },
  {
   "cell_type": "code",
   "execution_count": 1,
   "metadata": {
    "slideshow": {
     "slide_type": "slide"
    }
   },
   "outputs": [],
   "source": [
    "# make imports\n",
    "import pandas as pd\n",
    "import seaborn as sns\n",
    "import matplotlib.pyplot as plt\n",
    "import numpy as np\n",
    "from scipy import stats"
   ]
  },
  {
   "cell_type": "code",
   "execution_count": 2,
   "metadata": {
    "slideshow": {
     "slide_type": "slide"
    }
   },
   "outputs": [],
   "source": [
    "# read datasets (disasters)\n",
    "carbon_df = pd.read_csv('Data/carbon-emissions.csv')\n",
    "disasters_df = pd.read_csv('Data/natural-disaster-data/number-of-natural-disaster-events.csv')\n",
    "econ_df = pd.read_csv('Data/natural-disaster-data/economic-damage-from-natural-disasters.csv')"
   ]
  },
  {
   "cell_type": "markdown",
   "metadata": {
    "slideshow": {
     "slide_type": "slide"
    }
   },
   "source": [
    "# 1: Getting a \"Feel\" For the Data\n",
    "\n",
    "[Link to natural disasters dataset.](https://www.kaggle.com/dataenergy/natural-disaster-data)"
   ]
  },
  {
   "cell_type": "code",
   "execution_count": 3,
   "metadata": {
    "slideshow": {
     "slide_type": "subslide"
    }
   },
   "outputs": [
    {
     "data": {
      "text/html": [
       "<div>\n",
       "<style scoped>\n",
       "    .dataframe tbody tr th:only-of-type {\n",
       "        vertical-align: middle;\n",
       "    }\n",
       "\n",
       "    .dataframe tbody tr th {\n",
       "        vertical-align: top;\n",
       "    }\n",
       "\n",
       "    .dataframe thead th {\n",
       "        text-align: right;\n",
       "    }\n",
       "</style>\n",
       "<table border=\"1\" class=\"dataframe\">\n",
       "  <thead>\n",
       "    <tr style=\"text-align: right;\">\n",
       "      <th></th>\n",
       "      <th>Entity</th>\n",
       "      <th>Code</th>\n",
       "      <th>Year</th>\n",
       "      <th>Number of reported natural disasters (reported disasters)</th>\n",
       "    </tr>\n",
       "  </thead>\n",
       "  <tbody>\n",
       "    <tr>\n",
       "      <th>0</th>\n",
       "      <td>All natural disasters</td>\n",
       "      <td>NaN</td>\n",
       "      <td>1900</td>\n",
       "      <td>5</td>\n",
       "    </tr>\n",
       "    <tr>\n",
       "      <th>1</th>\n",
       "      <td>All natural disasters</td>\n",
       "      <td>NaN</td>\n",
       "      <td>1901</td>\n",
       "      <td>2</td>\n",
       "    </tr>\n",
       "    <tr>\n",
       "      <th>2</th>\n",
       "      <td>All natural disasters</td>\n",
       "      <td>NaN</td>\n",
       "      <td>1902</td>\n",
       "      <td>9</td>\n",
       "    </tr>\n",
       "    <tr>\n",
       "      <th>3</th>\n",
       "      <td>All natural disasters</td>\n",
       "      <td>NaN</td>\n",
       "      <td>1903</td>\n",
       "      <td>8</td>\n",
       "    </tr>\n",
       "    <tr>\n",
       "      <th>4</th>\n",
       "      <td>All natural disasters</td>\n",
       "      <td>NaN</td>\n",
       "      <td>1904</td>\n",
       "      <td>2</td>\n",
       "    </tr>\n",
       "  </tbody>\n",
       "</table>\n",
       "</div>"
      ],
      "text/plain": [
       "                  Entity  Code  Year  \\\n",
       "0  All natural disasters   NaN  1900   \n",
       "1  All natural disasters   NaN  1901   \n",
       "2  All natural disasters   NaN  1902   \n",
       "3  All natural disasters   NaN  1903   \n",
       "4  All natural disasters   NaN  1904   \n",
       "\n",
       "   Number of reported natural disasters (reported disasters)  \n",
       "0                                                  5          \n",
       "1                                                  2          \n",
       "2                                                  9          \n",
       "3                                                  8          \n",
       "4                                                  2          "
      ]
     },
     "execution_count": 3,
     "metadata": {},
     "output_type": "execute_result"
    }
   ],
   "source": [
    "# Look at the data for natural disasters\n",
    "disasters_df.head()"
   ]
  },
  {
   "cell_type": "code",
   "execution_count": 4,
   "metadata": {},
   "outputs": [],
   "source": [
    "# drop NaN values\n",
    "disasters_df = disasters_df.drop(columns='Code')\n",
    "econ_df = econ_df.drop(columns='Code')"
   ]
  },
  {
   "cell_type": "markdown",
   "metadata": {
    "slideshow": {
     "slide_type": "subslide"
    }
   },
   "source": [
    "## What Kinds of Values are There for \"Entity\"?"
   ]
  },
  {
   "cell_type": "code",
   "execution_count": 5,
   "metadata": {
    "slideshow": {
     "slide_type": "subslide"
    }
   },
   "outputs": [
    {
     "data": {
      "text/plain": [
       "array(['All natural disasters', 'Drought', 'Earthquake',\n",
       "       'Extreme temperature', 'Extreme weather', 'Flood', 'Impact',\n",
       "       'Landslide', 'Mass movement (dry)', 'Volcanic activity',\n",
       "       'Wildfire'], dtype=object)"
      ]
     },
     "execution_count": 5,
     "metadata": {},
     "output_type": "execute_result"
    }
   ],
   "source": [
    "disasters_df['Entity'].unique()"
   ]
  },
  {
   "cell_type": "markdown",
   "metadata": {
    "slideshow": {
     "slide_type": "subslide"
    }
   },
   "source": [
    "## Which Years Do We Have Data For?"
   ]
  },
  {
   "cell_type": "code",
   "execution_count": 6,
   "metadata": {
    "slideshow": {
     "slide_type": "subslide"
    }
   },
   "outputs": [
    {
     "data": {
      "text/plain": [
       "(1900, 2018)"
      ]
     },
     "execution_count": 6,
     "metadata": {},
     "output_type": "execute_result"
    }
   ],
   "source": [
    "(disasters_df['Year'].min(), disasters_df['Year'].max())"
   ]
  },
  {
   "cell_type": "markdown",
   "metadata": {
    "slideshow": {
     "slide_type": "slide"
    }
   },
   "source": [
    "# 2: How Are the Natural Disasters Changing Over Time?\n",
    "## Is Climate Change Real? "
   ]
  },
  {
   "cell_type": "markdown",
   "metadata": {
    "slideshow": {
     "slide_type": "subslide"
    }
   },
   "source": [
    "# Stats By the Decade: Measures of Central Tendency"
   ]
  },
  {
   "cell_type": "markdown",
   "metadata": {
    "slideshow": {
     "slide_type": "subslide"
    }
   },
   "source": [
    "# How does the mean number of natural disasters change by the decade?"
   ]
  },
  {
   "cell_type": "markdown",
   "metadata": {
    "slideshow": {
     "slide_type": "subslide"
    }
   },
   "source": [
    "# Functions to Compute Mean Amount of Disasters Annually, for a Given Decade"
   ]
  },
  {
   "cell_type": "code",
   "execution_count": 7,
   "metadata": {
    "slideshow": {
     "slide_type": "subslide"
    }
   },
   "outputs": [],
   "source": [
    "def grab_decade(start_yr, y_c_data, interval=10):\n",
    "    '''Return years and counts for only a specific interval length.'''\n",
    "    end_yr = int(start_yr) + interval - 1\n",
    "    years = y_c_data[(y_c_data['years'] <= end_yr) & (y_c_data['years'] >= start_yr)]\n",
    "    return years\n",
    "\n",
    "def compute_decade_mean(start_yr, y_c_data):\n",
    "    '''Sum the number of total disasters over a given period of 10 years, returns the mean.'''\n",
    "    years = grab_decade(start_yr, y_c_data)\n",
    "    # compute and return the mean\n",
    "    return years['counts'].sum() / 10"
   ]
  },
  {
   "cell_type": "markdown",
   "metadata": {
    "slideshow": {
     "slide_type": "subslide"
    }
   },
   "source": [
    "# Function to Perform This Step for all Decades 1900-2010"
   ]
  },
  {
   "cell_type": "code",
   "execution_count": 8,
   "metadata": {
    "slideshow": {
     "slide_type": "subslide"
    }
   },
   "outputs": [],
   "source": [
    "def compute_means(y_c_data):\n",
    "    '''Returns a dict of all mean number of disasters that occurred for every decade, 1900-2010.'''\n",
    "    # compute the amount of decades in our data\n",
    "    start_yr, end_yr = y_c_data['years'].min(), y_c_data['years'].max()\n",
    "    decades = (end_yr - start_yr) // 10\n",
    "    # store all the means in a dict\n",
    "    decade_means = dict()\n",
    "    for i in range(start_yr, end_yr, 10):\n",
    "        decade_means[f'{i}'] = compute_decade_mean(i, y_c_data)\n",
    "    return decade_means\n",
    "\n",
    "# Calling the function\n",
    "ALL_DIS = 'All natural disasters'\n",
    "COUNT = 'Number of reported natural disasters (reported disasters)'\n",
    "counts = disasters_df[(disasters_df['Entity'] == ALL_DIS)][COUNT]  # just the counts of all natural disasters, all years\n",
    "years = disasters_df[(disasters_df['Entity'] == ALL_DIS)]['Year']  # just the years\n",
    "y_c_data = pd.DataFrame(data={\n",
    "                        'years':years, \n",
    "                        'counts':counts})\n",
    "means_by_decade = compute_means(y_c_data)"
   ]
  },
  {
   "cell_type": "markdown",
   "metadata": {
    "slideshow": {
     "slide_type": "subslide"
    }
   },
   "source": [
    "# Plot of Changing Mean of Disaster Counts, By Decade"
   ]
  },
  {
   "cell_type": "code",
   "execution_count": 9,
   "metadata": {
    "slideshow": {
     "slide_type": "subslide"
    }
   },
   "outputs": [
    {
     "data": {
      "image/png": "[encoded data removed]",
      "text/plain": [
       "<Figure size 432x288 with 1 Axes>"
      ]
     },
     "metadata": {
      "needs_background": "light"
     },
     "output_type": "display_data"
    }
   ],
   "source": [
    "plt.plot(list(means_by_decade.keys()), list(means_by_decade.values()))\n",
    "plt.xlabel('Decade Start Year')\n",
    "plt.ylabel('Annual Mean Disaster Count')\n",
    "plt.title('Change in Decade Mean for Natural Disasters, 1900-2010')\n",
    "plt.show()"
   ]
  },
  {
   "cell_type": "markdown",
   "metadata": {
    "slideshow": {
     "slide_type": "subslide"
    }
   },
   "source": [
    "# How does the median number of natural disasters change by decade?¶"
   ]
  },
  {
   "cell_type": "markdown",
   "metadata": {
    "slideshow": {
     "slide_type": "subslide"
    }
   },
   "source": [
    "# Analogous Functions for the Medians By Decade"
   ]
  },
  {
   "cell_type": "code",
   "execution_count": 10,
   "metadata": {
    "slideshow": {
     "slide_type": "subslide"
    }
   },
   "outputs": [],
   "source": [
    "def compute_decade_median(start_yr, y_c_data):\n",
    "    '''Return the median of total disasters over a given period of 10 years.'''\n",
    "    years = grab_decade(start_yr, y_c_data)\n",
    "    # compute and return the median\n",
    "    return years['counts'].median()\n",
    "\n",
    "def compute_medians(y_c_data):\n",
    "    '''Returns a dict of all mean number of disasters that occurred for every decade, 1900-2010.'''\n",
    "    # compute the amount of decades in our data\n",
    "    start_yr, end_yr = y_c_data['years'].min(), y_c_data['years'].max()\n",
    "    decades = (end_yr - start_yr) // 10\n",
    "    # store all the medians in a dict\n",
    "    decade_medians = dict()\n",
    "    for i in range(start_yr, end_yr, 10):\n",
    "        decade_medians[f'{i}'] = compute_decade_median(i, y_c_data)\n",
    "    return decade_medians\n",
    "\n",
    "medians_by_decade = compute_medians(y_c_data)"
   ]
  },
  {
   "cell_type": "markdown",
   "metadata": {
    "slideshow": {
     "slide_type": "subslide"
    }
   },
   "source": [
    "# Plot the Change in Disaster Count Median, By Decade"
   ]
  },
  {
   "cell_type": "code",
   "execution_count": 11,
   "metadata": {
    "slideshow": {
     "slide_type": "subslide"
    }
   },
   "outputs": [
    {
     "data": {
      "image/png": "[encoded data removed]",
      "text/plain": [
       "<Figure size 432x288 with 1 Axes>"
      ]
     },
     "metadata": {
      "needs_background": "light"
     },
     "output_type": "display_data"
    }
   ],
   "source": [
    "plt.plot(list(medians_by_decade.keys()), list(medians_by_decade.values()))\n",
    "plt.xlabel('Decade Start Year')\n",
    "plt.ylabel('Median Disaster Count')\n",
    "plt.title('Change in Decade Median for Natural Disasters, 1900-2010')\n",
    "plt.show()"
   ]
  },
  {
   "cell_type": "markdown",
   "metadata": {
    "slideshow": {
     "slide_type": "subslide"
    }
   },
   "source": [
    "# Wait, what? \n",
    "## Why the drop around 2000?"
   ]
  },
  {
   "cell_type": "markdown",
   "metadata": {
    "slideshow": {
     "slide_type": "subslide"
    }
   },
   "source": [
    "# Watch out! For people who only show you the data for the last decade, there's more if we look closely (at the annual data)!"
   ]
  },
  {
   "cell_type": "code",
   "execution_count": 12,
   "metadata": {
    "slideshow": {
     "slide_type": "subslide"
    }
   },
   "outputs": [
    {
     "data": {
      "image/png": "[encoded data removed]",
      "text/plain": [
       "<Figure size 432x288 with 1 Axes>"
      ]
     },
     "metadata": {
      "needs_background": "light"
     },
     "output_type": "display_data"
    }
   ],
   "source": [
    "counts = disasters_df[(disasters_df['Entity'] == 'All natural disasters') & (disasters_df['Year'] >= 2000) & (disasters_df['Year'] <= 2010)]['Number of reported natural disasters (reported disasters)']\n",
    "plt.plot(list(range(2000, 2011)), counts)\n",
    "plt.xlabel('Year')\n",
    "plt.ylabel('Annual Mean Disaster Count')\n",
    "plt.title('Change in Natural Disaster Count, 2000-2010')\n",
    "plt.show()"
   ]
  },
  {
   "cell_type": "markdown",
   "metadata": {
    "slideshow": {
     "slide_type": "subslide"
    }
   },
   "source": [
    "# Our Data is Subject to Regression to the Mean!\n",
    "## How can we reach better conclusions*?\n",
    "### **Without just getting more data*"
   ]
  },
  {
   "cell_type": "markdown",
   "metadata": {
    "slideshow": {
     "slide_type": "slide"
    }
   },
   "source": [
    "# 3: Bayes' Theorem\n",
    "## $ P(A|B) = \\frac{P(A and B)}{P(A)} $"
   ]
  },
  {
   "cell_type": "markdown",
   "metadata": {
    "slideshow": {
     "slide_type": "subslide"
    }
   },
   "source": [
    "# Given a year is between 2000-2018, what is the chance that it's number of total disasters is greater than the average number of disasters for all years 1900-2018?"
   ]
  },
  {
   "cell_type": "markdown",
   "metadata": {
    "slideshow": {
     "slide_type": "subslide"
    }
   },
   "source": [
    "### In our scenario:\n",
    "\n",
    "### $ P(A|B) $ = P(Year Has More Natural Disasters than the Mean for All Years 1900-2018, Given Year is 2000-2018)\n",
    "\n",
    "### $ P(A) $ = P(Year is Between 2000-2018) "
   ]
  },
  {
   "cell_type": "markdown",
   "metadata": {
    "slideshow": {
     "slide_type": "subslide"
    }
   },
   "source": [
    "# What is the mean number of total natural disasters annually, for all years 1900-2018?"
   ]
  },
  {
   "cell_type": "code",
   "execution_count": 13,
   "metadata": {
    "slideshow": {
     "slide_type": "subslide"
    }
   },
   "outputs": [
    {
     "data": {
      "text/plain": [
       "111.02521008403362"
      ]
     },
     "execution_count": 13,
     "metadata": {},
     "output_type": "execute_result"
    }
   ],
   "source": [
    "# find all rows reporting \"all natural disasters\"\n",
    "COUNT = 'Number of reported natural disasters (reported disasters)'\n",
    "all_disasters = disasters_df[disasters_df['Entity'] == 'All natural disasters'][COUNT]\n",
    "# sum them together, divide by their number\n",
    "mean_disasters = np.sum(all_disasters) / len(all_disasters)\n",
    "# print the mean\n",
    "mean_disasters"
   ]
  },
  {
   "cell_type": "markdown",
   "metadata": {
    "slideshow": {
     "slide_type": "subslide"
    }
   },
   "source": [
    "# How Many Years Between 1900-2018 Have More Than This Mean?"
   ]
  },
  {
   "cell_type": "code",
   "execution_count": 14,
   "metadata": {
    "slideshow": {
     "slide_type": "subslide"
    }
   },
   "outputs": [
    {
     "data": {
      "text/plain": [
       "42"
      ]
     },
     "execution_count": 14,
     "metadata": {},
     "output_type": "execute_result"
    }
   ],
   "source": [
    "count = 0\n",
    "for num in all_disasters:\n",
    "    if num > mean_disasters:\n",
    "        count += 1\n",
    "count"
   ]
  },
  {
   "cell_type": "markdown",
   "metadata": {
    "slideshow": {
     "slide_type": "subslide"
    }
   },
   "source": [
    "##  Do all years 2000-2018 have more total disasters than the mean?"
   ]
  },
  {
   "cell_type": "code",
   "execution_count": 15,
   "metadata": {
    "slideshow": {
     "slide_type": "subslide"
    }
   },
   "outputs": [
    {
     "name": "stdout",
     "output_type": "stream",
     "text": [
      "100.0%\n"
     ]
    }
   ],
   "source": [
    "all_disasters_years_and_counts = disasters_df[(disasters_df['Entity'] == 'All natural disasters')]\n",
    "years_2000_2018 = all_disasters_years_and_counts.tail(19)\n",
    "count = 0\n",
    "for num in years_2000_2018['Number of reported natural disasters (reported disasters)']:\n",
    "    if num > mean_disasters:\n",
    "        count += 1\n",
    "        \n",
    "percent_val = round((count/19) * 100, 2)  \n",
    "print(f'{percent_val}%')  # have all these years surpassed the mean we calculated?"
   ]
  },
  {
   "cell_type": "markdown",
   "metadata": {
    "slideshow": {
     "slide_type": "subslide"
    }
   },
   "source": [
    "# So, What's the Chance that a Year has an Above Average Number of Natural Disasters, given the year is 2000-2018, than the mean of all 118 years?"
   ]
  },
  {
   "cell_type": "code",
   "execution_count": 16,
   "metadata": {
    "slideshow": {
     "slide_type": "subslide"
    }
   },
   "outputs": [
    {
     "name": "stdout",
     "output_type": "stream",
     "text": [
      "45.24%\n"
     ]
    }
   ],
   "source": [
    "print(f'{round((19/42) * 100, 2)}%')"
   ]
  },
  {
   "cell_type": "markdown",
   "metadata": {
    "slideshow": {
     "slide_type": "slide"
    }
   },
   "source": [
    "# Bayes' Theorem, pt. 2\n",
    "### Do we really need to set 2000 as our checkpoint?\n",
    "\n",
    "# Given a year is between 2000-2018, what is the chance that it's number of total disasters is greater than the average number of disasters for all years 1900-2000?"
   ]
  },
  {
   "cell_type": "code",
   "execution_count": 17,
   "metadata": {
    "slideshow": {
     "slide_type": "subslide"
    }
   },
   "outputs": [
    {
     "name": "stdout",
     "output_type": "stream",
     "text": [
      "100.0%\n"
     ]
    }
   ],
   "source": [
    "# slice the DataFrame by century\n",
    "disasters_20th = disasters_df[(disasters_df['Entity'] == 'All natural disasters') & (disasters_df['Year'] <= 1999) & (disasters_df['Year'] >= 1900)]\n",
    "disasters_21st = disasters_df[(disasters_df['Entity'] == 'All natural disasters') & (disasters_df['Year'] >= 2000) & (disasters_df['Year'] <= 2018)]\n",
    "\n",
    "# find the mean annual number of disasters in the 20th century\n",
    "mean_20th = disasters_20th[COUNT].values.mean()\n",
    "\n",
    "# compute the percent of years in the 21st century which is greater than this value\n",
    "percent_over = len(disasters_21st[disasters_21st[COUNT] > mean_20th]) / len(disasters_21st) * 100\n",
    "print(f'{percent_over}%')"
   ]
  },
  {
   "cell_type": "markdown",
   "metadata": {
    "slideshow": {
     "slide_type": "subslide"
    }
   },
   "source": [
    "# So how does the probability we're looking for, differ from the one before?"
   ]
  },
  {
   "cell_type": "code",
   "execution_count": 18,
   "metadata": {
    "slideshow": {
     "slide_type": "subslide"
    }
   },
   "outputs": [
    {
     "name": "stdout",
     "output_type": "stream",
     "text": [
      "37.5%\n"
     ]
    }
   ],
   "source": [
    "# find the total number of years with counts above the mean_20th\n",
    "count_above_mean = len(all_disasters[all_disasters > mean_20th])\n",
    "print(f'{round((18/count_above_mean) * 100, 2)}%')"
   ]
  },
  {
   "cell_type": "markdown",
   "metadata": {
    "slideshow": {
     "slide_type": "slide"
    }
   },
   "source": [
    "# 4: Distribution of Disasters\n",
    "\n",
    "# What is the distribution of natural disasters over the years 1900-1999? 2000-2018?"
   ]
  },
  {
   "cell_type": "code",
   "execution_count": 19,
   "metadata": {
    "slideshow": {
     "slide_type": "subslide"
    }
   },
   "outputs": [
    {
     "data": {
      "text/html": [
       "<div>\n",
       "<style scoped>\n",
       "    .dataframe tbody tr th:only-of-type {\n",
       "        vertical-align: middle;\n",
       "    }\n",
       "\n",
       "    .dataframe tbody tr th {\n",
       "        vertical-align: top;\n",
       "    }\n",
       "\n",
       "    .dataframe thead th {\n",
       "        text-align: right;\n",
       "    }\n",
       "</style>\n",
       "<table border=\"1\" class=\"dataframe\">\n",
       "  <thead>\n",
       "    <tr style=\"text-align: right;\">\n",
       "      <th></th>\n",
       "      <th>Entity</th>\n",
       "      <th>Year</th>\n",
       "      <th>Number of reported natural disasters (reported disasters)</th>\n",
       "    </tr>\n",
       "  </thead>\n",
       "  <tbody>\n",
       "    <tr>\n",
       "      <th>0</th>\n",
       "      <td>All natural disasters</td>\n",
       "      <td>1900</td>\n",
       "      <td>5</td>\n",
       "    </tr>\n",
       "    <tr>\n",
       "      <th>1</th>\n",
       "      <td>All natural disasters</td>\n",
       "      <td>1901</td>\n",
       "      <td>2</td>\n",
       "    </tr>\n",
       "    <tr>\n",
       "      <th>2</th>\n",
       "      <td>All natural disasters</td>\n",
       "      <td>1902</td>\n",
       "      <td>9</td>\n",
       "    </tr>\n",
       "    <tr>\n",
       "      <th>3</th>\n",
       "      <td>All natural disasters</td>\n",
       "      <td>1903</td>\n",
       "      <td>8</td>\n",
       "    </tr>\n",
       "    <tr>\n",
       "      <th>4</th>\n",
       "      <td>All natural disasters</td>\n",
       "      <td>1904</td>\n",
       "      <td>2</td>\n",
       "    </tr>\n",
       "    <tr>\n",
       "      <th>...</th>\n",
       "      <td>...</td>\n",
       "      <td>...</td>\n",
       "      <td>...</td>\n",
       "    </tr>\n",
       "    <tr>\n",
       "      <th>114</th>\n",
       "      <td>All natural disasters</td>\n",
       "      <td>2014</td>\n",
       "      <td>320</td>\n",
       "    </tr>\n",
       "    <tr>\n",
       "      <th>115</th>\n",
       "      <td>All natural disasters</td>\n",
       "      <td>2015</td>\n",
       "      <td>380</td>\n",
       "    </tr>\n",
       "    <tr>\n",
       "      <th>116</th>\n",
       "      <td>All natural disasters</td>\n",
       "      <td>2016</td>\n",
       "      <td>325</td>\n",
       "    </tr>\n",
       "    <tr>\n",
       "      <th>117</th>\n",
       "      <td>All natural disasters</td>\n",
       "      <td>2017</td>\n",
       "      <td>276</td>\n",
       "    </tr>\n",
       "    <tr>\n",
       "      <th>118</th>\n",
       "      <td>All natural disasters</td>\n",
       "      <td>2018</td>\n",
       "      <td>282</td>\n",
       "    </tr>\n",
       "  </tbody>\n",
       "</table>\n",
       "<p>119 rows × 3 columns</p>\n",
       "</div>"
      ],
      "text/plain": [
       "                    Entity  Year  \\\n",
       "0    All natural disasters  1900   \n",
       "1    All natural disasters  1901   \n",
       "2    All natural disasters  1902   \n",
       "3    All natural disasters  1903   \n",
       "4    All natural disasters  1904   \n",
       "..                     ...   ...   \n",
       "114  All natural disasters  2014   \n",
       "115  All natural disasters  2015   \n",
       "116  All natural disasters  2016   \n",
       "117  All natural disasters  2017   \n",
       "118  All natural disasters  2018   \n",
       "\n",
       "     Number of reported natural disasters (reported disasters)  \n",
       "0                                                    5          \n",
       "1                                                    2          \n",
       "2                                                    9          \n",
       "3                                                    8          \n",
       "4                                                    2          \n",
       "..                                                 ...          \n",
       "114                                                320          \n",
       "115                                                380          \n",
       "116                                                325          \n",
       "117                                                276          \n",
       "118                                                282          \n",
       "\n",
       "[119 rows x 3 columns]"
      ]
     },
     "execution_count": 19,
     "metadata": {},
     "output_type": "execute_result"
    }
   ],
   "source": [
    "# let's take another look at that data\n",
    "all_disasters_years_and_counts"
   ]
  },
  {
   "cell_type": "markdown",
   "metadata": {
    "slideshow": {
     "slide_type": "subslide"
    }
   },
   "source": [
    "# Breaking it Down Even Further\n",
    "## Years and Counts"
   ]
  },
  {
   "cell_type": "code",
   "execution_count": 20,
   "metadata": {
    "slideshow": {
     "slide_type": "subslide"
    }
   },
   "outputs": [
    {
     "data": {
      "text/html": [
       "<div>\n",
       "<style scoped>\n",
       "    .dataframe tbody tr th:only-of-type {\n",
       "        vertical-align: middle;\n",
       "    }\n",
       "\n",
       "    .dataframe tbody tr th {\n",
       "        vertical-align: top;\n",
       "    }\n",
       "\n",
       "    .dataframe thead th {\n",
       "        text-align: right;\n",
       "    }\n",
       "</style>\n",
       "<table border=\"1\" class=\"dataframe\">\n",
       "  <thead>\n",
       "    <tr style=\"text-align: right;\">\n",
       "      <th></th>\n",
       "      <th>years</th>\n",
       "      <th>counts</th>\n",
       "    </tr>\n",
       "  </thead>\n",
       "  <tbody>\n",
       "    <tr>\n",
       "      <th>0</th>\n",
       "      <td>1900</td>\n",
       "      <td>5</td>\n",
       "    </tr>\n",
       "    <tr>\n",
       "      <th>1</th>\n",
       "      <td>1901</td>\n",
       "      <td>2</td>\n",
       "    </tr>\n",
       "    <tr>\n",
       "      <th>2</th>\n",
       "      <td>1902</td>\n",
       "      <td>9</td>\n",
       "    </tr>\n",
       "    <tr>\n",
       "      <th>3</th>\n",
       "      <td>1903</td>\n",
       "      <td>8</td>\n",
       "    </tr>\n",
       "    <tr>\n",
       "      <th>4</th>\n",
       "      <td>1904</td>\n",
       "      <td>2</td>\n",
       "    </tr>\n",
       "    <tr>\n",
       "      <th>...</th>\n",
       "      <td>...</td>\n",
       "      <td>...</td>\n",
       "    </tr>\n",
       "    <tr>\n",
       "      <th>114</th>\n",
       "      <td>2014</td>\n",
       "      <td>320</td>\n",
       "    </tr>\n",
       "    <tr>\n",
       "      <th>115</th>\n",
       "      <td>2015</td>\n",
       "      <td>380</td>\n",
       "    </tr>\n",
       "    <tr>\n",
       "      <th>116</th>\n",
       "      <td>2016</td>\n",
       "      <td>325</td>\n",
       "    </tr>\n",
       "    <tr>\n",
       "      <th>117</th>\n",
       "      <td>2017</td>\n",
       "      <td>276</td>\n",
       "    </tr>\n",
       "    <tr>\n",
       "      <th>118</th>\n",
       "      <td>2018</td>\n",
       "      <td>282</td>\n",
       "    </tr>\n",
       "  </tbody>\n",
       "</table>\n",
       "<p>119 rows × 2 columns</p>\n",
       "</div>"
      ],
      "text/plain": [
       "     years  counts\n",
       "0     1900       5\n",
       "1     1901       2\n",
       "2     1902       9\n",
       "3     1903       8\n",
       "4     1904       2\n",
       "..     ...     ...\n",
       "114   2014     320\n",
       "115   2015     380\n",
       "116   2016     325\n",
       "117   2017     276\n",
       "118   2018     282\n",
       "\n",
       "[119 rows x 2 columns]"
      ]
     },
     "execution_count": 20,
     "metadata": {},
     "output_type": "execute_result"
    }
   ],
   "source": [
    "y_c_data"
   ]
  },
  {
   "cell_type": "markdown",
   "metadata": {
    "slideshow": {
     "slide_type": "subslide"
    }
   },
   "source": [
    "# Time Series Plot"
   ]
  },
  {
   "cell_type": "code",
   "execution_count": 21,
   "metadata": {},
   "outputs": [
    {
     "data": {
      "image/png": "[encoded data removed]",
      "text/plain": [
       "<Figure size 432x288 with 1 Axes>"
      ]
     },
     "metadata": {
      "needs_background": "light"
     },
     "output_type": "display_data"
    }
   ],
   "source": [
    "plt.plot(y_c_data['years'], y_c_data['counts'])\n",
    "plt.title('All Natural Disasters Globally, From 1900-2018')\n",
    "plt.ylabel('Total Count')\n",
    "plt.xlabel('Year')\n",
    "plt.show()"
   ]
  },
  {
   "cell_type": "markdown",
   "metadata": {
    "slideshow": {
     "slide_type": "slide"
    }
   },
   "source": [
    "# Is the Distribution of Disasters \"Balanced\" Between the Centuries?"
   ]
  },
  {
   "cell_type": "markdown",
   "metadata": {
    "slideshow": {
     "slide_type": "subslide"
    }
   },
   "source": [
    "# What's the probability that any given natural disaster between 1900-2018, happened 1900-1999? "
   ]
  },
  {
   "cell_type": "code",
   "execution_count": 22,
   "metadata": {
    "slideshow": {
     "slide_type": "subslide"
    }
   },
   "outputs": [
    {
     "name": "stdout",
     "output_type": "stream",
     "text": [
      "48.12%\n"
     ]
    }
   ],
   "source": [
    "def probability_for_interval(start_year, end_year):\n",
    "    # take the sum of all natural disasters that occurred 1900-2018\n",
    "    sum_all = y_c_data['counts'].sum()\n",
    "    # take the sum that happen over the interval\n",
    "    yrs_in_range = y_c_data[(y_c_data['years'] < end_year) & (y_c_data['years'] > start_year)]\n",
    "    sum_yrs = yrs_in_range['counts'].sum()\n",
    "    # return the probability\n",
    "    percent = round((sum_yrs/sum_all) * 100, 2)\n",
    "    return percent\n",
    "    \n",
    "prob_20th = probability_for_interval(1900, 2000)\n",
    "print(f'{prob_20th}%')"
   ]
  },
  {
   "cell_type": "markdown",
   "metadata": {
    "slideshow": {
     "slide_type": "subslide"
    }
   },
   "source": [
    "# What About 2000-2018?"
   ]
  },
  {
   "cell_type": "code",
   "execution_count": 23,
   "metadata": {
    "slideshow": {
     "slide_type": "subslide"
    }
   },
   "outputs": [
    {
     "name": "stdout",
     "output_type": "stream",
     "text": [
      "46.59%\n"
     ]
    }
   ],
   "source": [
    "prob_21st = probability_for_interval(2000, 2018)\n",
    "print(f'{prob_21st}%')"
   ]
  },
  {
   "cell_type": "code",
   "execution_count": 24,
   "metadata": {
    "slideshow": {
     "slide_type": "subslide"
    }
   },
   "outputs": [
    {
     "data": {
      "image/png": "[encoded data removed]",
      "text/plain": [
       "<Figure size 432x288 with 1 Axes>"
      ]
     },
     "metadata": {},
     "output_type": "display_data"
    }
   ],
   "source": [
    "plt.pie([prob_20th, prob_21st], labels=['20th', '21st'])\n",
    "plt.title('Relative Frequency of Natural Disasters in 20th & 21st Centuries')\n",
    "plt.show()"
   ]
  },
  {
   "cell_type": "markdown",
   "metadata": {
    "slideshow": {
     "slide_type": "slide"
    }
   },
   "source": [
    "# 5: What Happens if We Remove Outliers?"
   ]
  },
  {
   "cell_type": "markdown",
   "metadata": {
    "slideshow": {
     "slide_type": "subslide"
    }
   },
   "source": [
    "# We need* to take a lot at our IQR!\n",
    "\n",
    "### **because we don't have a normal distribution*\n"
   ]
  },
  {
   "cell_type": "code",
   "execution_count": 25,
   "metadata": {
    "slideshow": {
     "slide_type": "subslide"
    }
   },
   "outputs": [
    {
     "name": "stdout",
     "output_type": "stream",
     "text": [
      "This is the IQR: 56.5\n",
      "Number of outliers removed from the data: 0\n"
     ]
    }
   ],
   "source": [
    "def find_remove_outlier_iqr(disaster_counts):\n",
    "    '''Remove the outliers from the dataset of annual total nautral disasters.'''\n",
    "    # calculate interquartile range\n",
    "    q25, q75 = np.percentile(disaster_counts, 25), np.percentile(disaster_counts, 75)\n",
    "    iqr = q75 - q25\n",
    "    print(f'This is the IQR: {iqr}')\n",
    "    # calculate the outlier cutoff\n",
    "    cut_off = iqr * 1.5\n",
    "    lower, upper = q25 - cut_off, q75 + cut_off\n",
    "    # identify outliers\n",
    "    outliers = [x for x in disaster_counts if x < lower or x > upper]\n",
    "    # remove outliers\n",
    "    outliers_removed = [x for x in disaster_counts if x > lower and x < upper]\n",
    "    return outliers\n",
    "\n",
    "print(f'Number of outliers removed from the data: {len(find_remove_outlier_iqr(counts))}')"
   ]
  },
  {
   "cell_type": "code",
   "execution_count": 26,
   "metadata": {
    "slideshow": {
     "slide_type": "subslide"
    }
   },
   "outputs": [
    {
     "data": {
      "image/png": "[encoded data removed]",
      "text/plain": [
       "<Figure size 432x288 with 1 Axes>"
      ]
     },
     "metadata": {
      "needs_background": "light"
     },
     "output_type": "display_data"
    }
   ],
   "source": [
    "# show box plot\n",
    "counts = all_disasters_years_and_counts['Number of reported natural disasters (reported disasters)']\n",
    "plt.boxplot(counts)\n",
    "plt.title(\"Box Plot of Annual Natural Disasters, 1900-2018\")\n",
    "plt.ylabel(\"Count of Natural Disasters\")\n",
    "plt.xlabel(\"Years 1900-2018\")\n",
    "plt.show()"
   ]
  },
  {
   "cell_type": "markdown",
   "metadata": {
    "slideshow": {
     "slide_type": "slide"
    }
   },
   "source": [
    "# 6: How Has the Amount of Carbon Emissions Looked Over the Turn of the Century?"
   ]
  },
  {
   "cell_type": "markdown",
   "metadata": {
    "slideshow": {
     "slide_type": "subslide"
    }
   },
   "source": [
    "# Getting a Feel of the Carbon Emissions Data\n",
    "\n",
    "## This provides the monthly carbon emissions from electricity generation, by the Energy Information Administration.\n",
    "\n",
    "[Link to the dataset](https://www.kaggle.com/txtrouble/carbon-emissions)."
   ]
  },
  {
   "cell_type": "code",
   "execution_count": 27,
   "metadata": {
    "slideshow": {
     "slide_type": "subslide"
    }
   },
   "outputs": [
    {
     "data": {
      "text/html": [
       "<div>\n",
       "<style scoped>\n",
       "    .dataframe tbody tr th:only-of-type {\n",
       "        vertical-align: middle;\n",
       "    }\n",
       "\n",
       "    .dataframe tbody tr th {\n",
       "        vertical-align: top;\n",
       "    }\n",
       "\n",
       "    .dataframe thead th {\n",
       "        text-align: right;\n",
       "    }\n",
       "</style>\n",
       "<table border=\"1\" class=\"dataframe\">\n",
       "  <thead>\n",
       "    <tr style=\"text-align: right;\">\n",
       "      <th></th>\n",
       "      <th>MSN</th>\n",
       "      <th>YYYYMM</th>\n",
       "      <th>Value</th>\n",
       "      <th>Column_Order</th>\n",
       "      <th>Description</th>\n",
       "      <th>Unit</th>\n",
       "    </tr>\n",
       "  </thead>\n",
       "  <tbody>\n",
       "    <tr>\n",
       "      <th>0</th>\n",
       "      <td>CLEIEUS</td>\n",
       "      <td>197301</td>\n",
       "      <td>72.076</td>\n",
       "      <td>1</td>\n",
       "      <td>Coal Electric Power Sector CO2 Emissions</td>\n",
       "      <td>Million Metric Tons of Carbon Dioxide</td>\n",
       "    </tr>\n",
       "    <tr>\n",
       "      <th>1</th>\n",
       "      <td>CLEIEUS</td>\n",
       "      <td>197302</td>\n",
       "      <td>64.442</td>\n",
       "      <td>1</td>\n",
       "      <td>Coal Electric Power Sector CO2 Emissions</td>\n",
       "      <td>Million Metric Tons of Carbon Dioxide</td>\n",
       "    </tr>\n",
       "    <tr>\n",
       "      <th>2</th>\n",
       "      <td>CLEIEUS</td>\n",
       "      <td>197303</td>\n",
       "      <td>64.084</td>\n",
       "      <td>1</td>\n",
       "      <td>Coal Electric Power Sector CO2 Emissions</td>\n",
       "      <td>Million Metric Tons of Carbon Dioxide</td>\n",
       "    </tr>\n",
       "    <tr>\n",
       "      <th>3</th>\n",
       "      <td>CLEIEUS</td>\n",
       "      <td>197304</td>\n",
       "      <td>60.842</td>\n",
       "      <td>1</td>\n",
       "      <td>Coal Electric Power Sector CO2 Emissions</td>\n",
       "      <td>Million Metric Tons of Carbon Dioxide</td>\n",
       "    </tr>\n",
       "    <tr>\n",
       "      <th>4</th>\n",
       "      <td>CLEIEUS</td>\n",
       "      <td>197305</td>\n",
       "      <td>61.798</td>\n",
       "      <td>1</td>\n",
       "      <td>Coal Electric Power Sector CO2 Emissions</td>\n",
       "      <td>Million Metric Tons of Carbon Dioxide</td>\n",
       "    </tr>\n",
       "    <tr>\n",
       "      <th>5</th>\n",
       "      <td>CLEIEUS</td>\n",
       "      <td>197306</td>\n",
       "      <td>66.538</td>\n",
       "      <td>1</td>\n",
       "      <td>Coal Electric Power Sector CO2 Emissions</td>\n",
       "      <td>Million Metric Tons of Carbon Dioxide</td>\n",
       "    </tr>\n",
       "    <tr>\n",
       "      <th>6</th>\n",
       "      <td>CLEIEUS</td>\n",
       "      <td>197307</td>\n",
       "      <td>72.626</td>\n",
       "      <td>1</td>\n",
       "      <td>Coal Electric Power Sector CO2 Emissions</td>\n",
       "      <td>Million Metric Tons of Carbon Dioxide</td>\n",
       "    </tr>\n",
       "    <tr>\n",
       "      <th>7</th>\n",
       "      <td>CLEIEUS</td>\n",
       "      <td>197308</td>\n",
       "      <td>75.181</td>\n",
       "      <td>1</td>\n",
       "      <td>Coal Electric Power Sector CO2 Emissions</td>\n",
       "      <td>Million Metric Tons of Carbon Dioxide</td>\n",
       "    </tr>\n",
       "    <tr>\n",
       "      <th>8</th>\n",
       "      <td>CLEIEUS</td>\n",
       "      <td>197309</td>\n",
       "      <td>68.397</td>\n",
       "      <td>1</td>\n",
       "      <td>Coal Electric Power Sector CO2 Emissions</td>\n",
       "      <td>Million Metric Tons of Carbon Dioxide</td>\n",
       "    </tr>\n",
       "    <tr>\n",
       "      <th>9</th>\n",
       "      <td>CLEIEUS</td>\n",
       "      <td>197310</td>\n",
       "      <td>67.668</td>\n",
       "      <td>1</td>\n",
       "      <td>Coal Electric Power Sector CO2 Emissions</td>\n",
       "      <td>Million Metric Tons of Carbon Dioxide</td>\n",
       "    </tr>\n",
       "    <tr>\n",
       "      <th>10</th>\n",
       "      <td>CLEIEUS</td>\n",
       "      <td>197311</td>\n",
       "      <td>67.021</td>\n",
       "      <td>1</td>\n",
       "      <td>Coal Electric Power Sector CO2 Emissions</td>\n",
       "      <td>Million Metric Tons of Carbon Dioxide</td>\n",
       "    </tr>\n",
       "    <tr>\n",
       "      <th>11</th>\n",
       "      <td>CLEIEUS</td>\n",
       "      <td>197312</td>\n",
       "      <td>71.118</td>\n",
       "      <td>1</td>\n",
       "      <td>Coal Electric Power Sector CO2 Emissions</td>\n",
       "      <td>Million Metric Tons of Carbon Dioxide</td>\n",
       "    </tr>\n",
       "    <tr>\n",
       "      <th>12</th>\n",
       "      <td>CLEIEUS</td>\n",
       "      <td>197313</td>\n",
       "      <td>811.791</td>\n",
       "      <td>1</td>\n",
       "      <td>Coal Electric Power Sector CO2 Emissions</td>\n",
       "      <td>Million Metric Tons of Carbon Dioxide</td>\n",
       "    </tr>\n",
       "    <tr>\n",
       "      <th>13</th>\n",
       "      <td>CLEIEUS</td>\n",
       "      <td>197401</td>\n",
       "      <td>70.55</td>\n",
       "      <td>1</td>\n",
       "      <td>Coal Electric Power Sector CO2 Emissions</td>\n",
       "      <td>Million Metric Tons of Carbon Dioxide</td>\n",
       "    </tr>\n",
       "    <tr>\n",
       "      <th>14</th>\n",
       "      <td>CLEIEUS</td>\n",
       "      <td>197402</td>\n",
       "      <td>62.929</td>\n",
       "      <td>1</td>\n",
       "      <td>Coal Electric Power Sector CO2 Emissions</td>\n",
       "      <td>Million Metric Tons of Carbon Dioxide</td>\n",
       "    </tr>\n",
       "  </tbody>\n",
       "</table>\n",
       "</div>"
      ],
      "text/plain": [
       "        MSN  YYYYMM    Value  Column_Order  \\\n",
       "0   CLEIEUS  197301   72.076             1   \n",
       "1   CLEIEUS  197302   64.442             1   \n",
       "2   CLEIEUS  197303   64.084             1   \n",
       "3   CLEIEUS  197304   60.842             1   \n",
       "4   CLEIEUS  197305   61.798             1   \n",
       "5   CLEIEUS  197306   66.538             1   \n",
       "6   CLEIEUS  197307   72.626             1   \n",
       "7   CLEIEUS  197308   75.181             1   \n",
       "8   CLEIEUS  197309   68.397             1   \n",
       "9   CLEIEUS  197310   67.668             1   \n",
       "10  CLEIEUS  197311   67.021             1   \n",
       "11  CLEIEUS  197312   71.118             1   \n",
       "12  CLEIEUS  197313  811.791             1   \n",
       "13  CLEIEUS  197401    70.55             1   \n",
       "14  CLEIEUS  197402   62.929             1   \n",
       "\n",
       "                                 Description  \\\n",
       "0   Coal Electric Power Sector CO2 Emissions   \n",
       "1   Coal Electric Power Sector CO2 Emissions   \n",
       "2   Coal Electric Power Sector CO2 Emissions   \n",
       "3   Coal Electric Power Sector CO2 Emissions   \n",
       "4   Coal Electric Power Sector CO2 Emissions   \n",
       "5   Coal Electric Power Sector CO2 Emissions   \n",
       "6   Coal Electric Power Sector CO2 Emissions   \n",
       "7   Coal Electric Power Sector CO2 Emissions   \n",
       "8   Coal Electric Power Sector CO2 Emissions   \n",
       "9   Coal Electric Power Sector CO2 Emissions   \n",
       "10  Coal Electric Power Sector CO2 Emissions   \n",
       "11  Coal Electric Power Sector CO2 Emissions   \n",
       "12  Coal Electric Power Sector CO2 Emissions   \n",
       "13  Coal Electric Power Sector CO2 Emissions   \n",
       "14  Coal Electric Power Sector CO2 Emissions   \n",
       "\n",
       "                                     Unit  \n",
       "0   Million Metric Tons of Carbon Dioxide  \n",
       "1   Million Metric Tons of Carbon Dioxide  \n",
       "2   Million Metric Tons of Carbon Dioxide  \n",
       "3   Million Metric Tons of Carbon Dioxide  \n",
       "4   Million Metric Tons of Carbon Dioxide  \n",
       "5   Million Metric Tons of Carbon Dioxide  \n",
       "6   Million Metric Tons of Carbon Dioxide  \n",
       "7   Million Metric Tons of Carbon Dioxide  \n",
       "8   Million Metric Tons of Carbon Dioxide  \n",
       "9   Million Metric Tons of Carbon Dioxide  \n",
       "10  Million Metric Tons of Carbon Dioxide  \n",
       "11  Million Metric Tons of Carbon Dioxide  \n",
       "12  Million Metric Tons of Carbon Dioxide  \n",
       "13  Million Metric Tons of Carbon Dioxide  \n",
       "14  Million Metric Tons of Carbon Dioxide  "
      ]
     },
     "execution_count": 27,
     "metadata": {},
     "output_type": "execute_result"
    }
   ],
   "source": [
    "carbon_df.head(15)\n",
    "# carbon_df['Description'].values"
   ]
  },
  {
   "cell_type": "code",
   "execution_count": 28,
   "metadata": {
    "slideshow": {
     "slide_type": "subslide"
    }
   },
   "outputs": [
    {
     "data": {
      "text/html": [
       "<div>\n",
       "<style scoped>\n",
       "    .dataframe tbody tr th:only-of-type {\n",
       "        vertical-align: middle;\n",
       "    }\n",
       "\n",
       "    .dataframe tbody tr th {\n",
       "        vertical-align: top;\n",
       "    }\n",
       "\n",
       "    .dataframe thead th {\n",
       "        text-align: right;\n",
       "    }\n",
       "</style>\n",
       "<table border=\"1\" class=\"dataframe\">\n",
       "  <thead>\n",
       "    <tr style=\"text-align: right;\">\n",
       "      <th></th>\n",
       "      <th>MSN</th>\n",
       "      <th>YYYYMM</th>\n",
       "      <th>Value</th>\n",
       "      <th>Column_Order</th>\n",
       "      <th>Description</th>\n",
       "      <th>Unit</th>\n",
       "    </tr>\n",
       "  </thead>\n",
       "  <tbody>\n",
       "    <tr>\n",
       "      <th>5089</th>\n",
       "      <td>TXEIEUS</td>\n",
       "      <td>201603</td>\n",
       "      <td>115.997</td>\n",
       "      <td>9</td>\n",
       "      <td>Total Energy Electric Power Sector CO2 Emissions</td>\n",
       "      <td>Million Metric Tons of Carbon Dioxide</td>\n",
       "    </tr>\n",
       "    <tr>\n",
       "      <th>5090</th>\n",
       "      <td>TXEIEUS</td>\n",
       "      <td>201604</td>\n",
       "      <td>113.815</td>\n",
       "      <td>9</td>\n",
       "      <td>Total Energy Electric Power Sector CO2 Emissions</td>\n",
       "      <td>Million Metric Tons of Carbon Dioxide</td>\n",
       "    </tr>\n",
       "    <tr>\n",
       "      <th>5091</th>\n",
       "      <td>TXEIEUS</td>\n",
       "      <td>201605</td>\n",
       "      <td>129.44</td>\n",
       "      <td>9</td>\n",
       "      <td>Total Energy Electric Power Sector CO2 Emissions</td>\n",
       "      <td>Million Metric Tons of Carbon Dioxide</td>\n",
       "    </tr>\n",
       "    <tr>\n",
       "      <th>5092</th>\n",
       "      <td>TXEIEUS</td>\n",
       "      <td>201606</td>\n",
       "      <td>172.074</td>\n",
       "      <td>9</td>\n",
       "      <td>Total Energy Electric Power Sector CO2 Emissions</td>\n",
       "      <td>Million Metric Tons of Carbon Dioxide</td>\n",
       "    </tr>\n",
       "    <tr>\n",
       "      <th>5093</th>\n",
       "      <td>TXEIEUS</td>\n",
       "      <td>201607</td>\n",
       "      <td>201.958</td>\n",
       "      <td>9</td>\n",
       "      <td>Total Energy Electric Power Sector CO2 Emissions</td>\n",
       "      <td>Million Metric Tons of Carbon Dioxide</td>\n",
       "    </tr>\n",
       "  </tbody>\n",
       "</table>\n",
       "</div>"
      ],
      "text/plain": [
       "          MSN  YYYYMM    Value  Column_Order  \\\n",
       "5089  TXEIEUS  201603  115.997             9   \n",
       "5090  TXEIEUS  201604  113.815             9   \n",
       "5091  TXEIEUS  201605   129.44             9   \n",
       "5092  TXEIEUS  201606  172.074             9   \n",
       "5093  TXEIEUS  201607  201.958             9   \n",
       "\n",
       "                                           Description  \\\n",
       "5089  Total Energy Electric Power Sector CO2 Emissions   \n",
       "5090  Total Energy Electric Power Sector CO2 Emissions   \n",
       "5091  Total Energy Electric Power Sector CO2 Emissions   \n",
       "5092  Total Energy Electric Power Sector CO2 Emissions   \n",
       "5093  Total Energy Electric Power Sector CO2 Emissions   \n",
       "\n",
       "                                       Unit  \n",
       "5089  Million Metric Tons of Carbon Dioxide  \n",
       "5090  Million Metric Tons of Carbon Dioxide  \n",
       "5091  Million Metric Tons of Carbon Dioxide  \n",
       "5092  Million Metric Tons of Carbon Dioxide  \n",
       "5093  Million Metric Tons of Carbon Dioxide  "
      ]
     },
     "execution_count": 28,
     "metadata": {},
     "output_type": "execute_result"
    }
   ],
   "source": [
    "carbon_df.tail()"
   ]
  },
  {
   "cell_type": "code",
   "execution_count": 29,
   "metadata": {},
   "outputs": [
    {
     "data": {
      "text/plain": [
       "array(['Coal Electric Power Sector CO2 Emissions',\n",
       "       'Natural Gas Electric Power Sector CO2 Emissions',\n",
       "       'Distillate Fuel, Including Kerosene-Type Jet Fuel, Oil Electric Power Sector CO2 Emissions',\n",
       "       'Petroleum Coke Electric Power Sector CO2 Emissions',\n",
       "       'Residual Fuel Oil Electric Power Sector CO2 Emissions',\n",
       "       'Petroleum Electric Power Sector CO2 Emissions',\n",
       "       'Geothermal Energy Electric Power Sector CO2 Emissions',\n",
       "       'Non-Biomass Waste Electric Power Sector CO2 Emissions',\n",
       "       'Total Energy Electric Power Sector CO2 Emissions'], dtype=object)"
      ]
     },
     "execution_count": 29,
     "metadata": {},
     "output_type": "execute_result"
    }
   ],
   "source": [
    "# Types of energy in the dataset\n",
    "\n",
    "carbon_df['Description'].unique()"
   ]
  },
  {
   "cell_type": "markdown",
   "metadata": {
    "slideshow": {
     "slide_type": "subslide"
    }
   },
   "source": [
    "# Plot the Change in Carbon Emissions Annually, from 1973-2016\n"
   ]
  },
  {
   "cell_type": "code",
   "execution_count": 30,
   "metadata": {
    "slideshow": {
     "slide_type": "subslide"
    }
   },
   "outputs": [
    {
     "name": "stdout",
     "output_type": "stream",
     "text": [
      "{1973: 1286.353, 1974: 1250.643, 1975: 1243.814, 1976: 1351.1860000000001, 1977: 1442.127, 1978: 1447.658, 1979: 1505.2470000000003, 1980: 1543.709, 1981: 1551.136, 1982: 1480.7900000000002, 1983: 1520.703, 1984: 1588.2939999999999, 1985: 1619.1449999999998, 1986: 1613.2489999999996, 1987: 1680.19, 1988: 1757.5199999999998, 1989: 1825.562, 1990: 1831.0010000000002, 1991: 1829.556, 1992: 1843.4219999999998, 1993: 1919.0849999999998, 1994: 1943.8449999999998, 1995: 1960.0349999999999, 1996: 2033.2369999999999, 1997: 2101.384, 1998: 2191.771, 1999: 2204.392, 2000: 2310.169, 2001: 2272.636, 2002: 2288.035, 2003: 2319.17, 2004: 2350.377, 2005: 2415.5270000000005, 2006: 2358.322, 2007: 2424.9139999999998, 2008: 2372.831, 2009: 2157.826, 2010: 2270.2549999999997, 2011: 2169.669, 2012: 2034.3249999999998, 2013: 2049.838, 2014: 2049.826, 2015: 1918.4820000000002, 2016: 1025.42}\n"
     ]
    }
   ],
   "source": [
    "# store the annual emissions count in a dict\n",
    "years_emissions = dict()\n",
    "# just look at emissions from total electric output\n",
    "carbon_total = carbon_df[carbon_df['Description'] == 'Total Energy Electric Power Sector CO2 Emissions']\n",
    "# traverse through the years\n",
    "for i in range(197300, 201700, 100):\n",
    "    # find all the rows in the data for the year we're currently on\n",
    "    year = carbon_total[(carbon_total['YYYYMM'] >= i) & (carbon_total['YYYYMM'] <= i + 12)]\n",
    "    # sum the emissisons for that one year\n",
    "    sum = 0.0\n",
    "    for value in year['Value']:\n",
    "        # handle the invalid values\n",
    "        if value == 'Not Available':\n",
    "            value = 0.0\n",
    "        sum += float(value)\n",
    "    # store it in the dict\n",
    "    years_emissions[int(i/100)] = sum\n",
    "# Voila! A dict of all years and their emissions counts, 1973-2016\n",
    "print(years_emissions)\n",
    "# One of the things to note in this data is that NaN values were replaced 0, but this is likely far from the\n",
    "# true number of emissions made that month"
   ]
  },
  {
   "cell_type": "code",
   "execution_count": 31,
   "metadata": {
    "slideshow": {
     "slide_type": "subslide"
    }
   },
   "outputs": [
    {
     "data": {
      "image/png": "[encoded data removed]",
      "text/plain": [
       "<Figure size 432x288 with 1 Axes>"
      ]
     },
     "metadata": {
      "needs_background": "light"
     },
     "output_type": "display_data"
    }
   ],
   "source": [
    "plt.plot(list(years_emissions.keys()), list(years_emissions.values()))\n",
    "plt.title('Annual Carbon Emissions from Electricity Generation, 1973-2016')\n",
    "plt.xlabel('Year')\n",
    "plt.ylabel('Million Metric Tons of Carbon Dioxide')\n",
    "plt.show()"
   ]
  },
  {
   "cell_type": "markdown",
   "metadata": {
    "slideshow": {
     "slide_type": "slide"
    }
   },
   "source": [
    "# Wait, emissions are going down?\n",
    "## Remember, this Data was Only for the Emissions Produced for Electricity in the U.S.!\n",
    "\n",
    "[Globally, emissions are up](https://www.wri.org/blog/2018/12/new-global-co2-emissions-numbers-are-they-re-not-good)."
   ]
  },
  {
   "cell_type": "markdown",
   "metadata": {
    "slideshow": {
     "slide_type": "slide"
    }
   },
   "source": [
    "# 7: The (Economic) Cost of Natural Disasters"
   ]
  },
  {
   "cell_type": "markdown",
   "metadata": {
    "slideshow": {
     "slide_type": "subslide"
    }
   },
   "source": [
    "# Getting a Feel for the Economic Data\n",
    "[Link to dataset, same as for the natural disasters data.](https://www.kaggle.com/dataenergy/natural-disaster-data)"
   ]
  },
  {
   "cell_type": "code",
   "execution_count": 32,
   "metadata": {
    "slideshow": {
     "slide_type": "subslide"
    }
   },
   "outputs": [
    {
     "data": {
      "text/html": [
       "<div>\n",
       "<style scoped>\n",
       "    .dataframe tbody tr th:only-of-type {\n",
       "        vertical-align: middle;\n",
       "    }\n",
       "\n",
       "    .dataframe tbody tr th {\n",
       "        vertical-align: top;\n",
       "    }\n",
       "\n",
       "    .dataframe thead th {\n",
       "        text-align: right;\n",
       "    }\n",
       "</style>\n",
       "<table border=\"1\" class=\"dataframe\">\n",
       "  <thead>\n",
       "    <tr style=\"text-align: right;\">\n",
       "      <th></th>\n",
       "      <th>Entity</th>\n",
       "      <th>Year</th>\n",
       "      <th>Total economic damage from natural disasters (US$)</th>\n",
       "    </tr>\n",
       "  </thead>\n",
       "  <tbody>\n",
       "    <tr>\n",
       "      <th>0</th>\n",
       "      <td>All natural disasters</td>\n",
       "      <td>1900</td>\n",
       "      <td>30000000</td>\n",
       "    </tr>\n",
       "    <tr>\n",
       "      <th>1</th>\n",
       "      <td>All natural disasters</td>\n",
       "      <td>1901</td>\n",
       "      <td>0</td>\n",
       "    </tr>\n",
       "    <tr>\n",
       "      <th>2</th>\n",
       "      <td>All natural disasters</td>\n",
       "      <td>1902</td>\n",
       "      <td>0</td>\n",
       "    </tr>\n",
       "    <tr>\n",
       "      <th>3</th>\n",
       "      <td>All natural disasters</td>\n",
       "      <td>1903</td>\n",
       "      <td>480000000</td>\n",
       "    </tr>\n",
       "    <tr>\n",
       "      <th>4</th>\n",
       "      <td>All natural disasters</td>\n",
       "      <td>1904</td>\n",
       "      <td>0</td>\n",
       "    </tr>\n",
       "  </tbody>\n",
       "</table>\n",
       "</div>"
      ],
      "text/plain": [
       "                  Entity  Year  \\\n",
       "0  All natural disasters  1900   \n",
       "1  All natural disasters  1901   \n",
       "2  All natural disasters  1902   \n",
       "3  All natural disasters  1903   \n",
       "4  All natural disasters  1904   \n",
       "\n",
       "   Total economic damage from natural disasters (US$)  \n",
       "0                                           30000000   \n",
       "1                                                  0   \n",
       "2                                                  0   \n",
       "3                                          480000000   \n",
       "4                                                  0   "
      ]
     },
     "execution_count": 32,
     "metadata": {},
     "output_type": "execute_result"
    }
   ],
   "source": [
    "econ_df.head()"
   ]
  },
  {
   "cell_type": "markdown",
   "metadata": {
    "slideshow": {
     "slide_type": "slide"
    }
   },
   "source": [
    "# Let's Combine This DataFrame with the Disasters Data!"
   ]
  },
  {
   "cell_type": "code",
   "execution_count": 33,
   "metadata": {
    "slideshow": {
     "slide_type": "subslide"
    }
   },
   "outputs": [
    {
     "data": {
      "text/html": [
       "<div>\n",
       "<style scoped>\n",
       "    .dataframe tbody tr th:only-of-type {\n",
       "        vertical-align: middle;\n",
       "    }\n",
       "\n",
       "    .dataframe tbody tr th {\n",
       "        vertical-align: top;\n",
       "    }\n",
       "\n",
       "    .dataframe thead th {\n",
       "        text-align: right;\n",
       "    }\n",
       "</style>\n",
       "<table border=\"1\" class=\"dataframe\">\n",
       "  <thead>\n",
       "    <tr style=\"text-align: right;\">\n",
       "      <th></th>\n",
       "      <th>Entity</th>\n",
       "      <th>Year</th>\n",
       "      <th>Disaster Count</th>\n",
       "      <th>Cost</th>\n",
       "    </tr>\n",
       "  </thead>\n",
       "  <tbody>\n",
       "    <tr>\n",
       "      <th>0</th>\n",
       "      <td>All natural disasters</td>\n",
       "      <td>1900</td>\n",
       "      <td>5</td>\n",
       "      <td>30000000.0</td>\n",
       "    </tr>\n",
       "    <tr>\n",
       "      <th>1</th>\n",
       "      <td>All natural disasters</td>\n",
       "      <td>1901</td>\n",
       "      <td>2</td>\n",
       "      <td>0.0</td>\n",
       "    </tr>\n",
       "    <tr>\n",
       "      <th>2</th>\n",
       "      <td>All natural disasters</td>\n",
       "      <td>1902</td>\n",
       "      <td>9</td>\n",
       "      <td>0.0</td>\n",
       "    </tr>\n",
       "    <tr>\n",
       "      <th>3</th>\n",
       "      <td>All natural disasters</td>\n",
       "      <td>1903</td>\n",
       "      <td>8</td>\n",
       "      <td>480000000.0</td>\n",
       "    </tr>\n",
       "    <tr>\n",
       "      <th>4</th>\n",
       "      <td>All natural disasters</td>\n",
       "      <td>1904</td>\n",
       "      <td>2</td>\n",
       "      <td>0.0</td>\n",
       "    </tr>\n",
       "  </tbody>\n",
       "</table>\n",
       "</div>"
      ],
      "text/plain": [
       "                  Entity  Year  Disaster Count         Cost\n",
       "0  All natural disasters  1900               5   30000000.0\n",
       "1  All natural disasters  1901               2          0.0\n",
       "2  All natural disasters  1902               9          0.0\n",
       "3  All natural disasters  1903               8  480000000.0\n",
       "4  All natural disasters  1904               2          0.0"
      ]
     },
     "execution_count": 33,
     "metadata": {},
     "output_type": "execute_result"
    }
   ],
   "source": [
    "# combining datasets\n",
    "df = disasters_df.rename(columns={'Number of reported natural disasters (reported disasters)': 'Disaster Count'})\n",
    "df2 = econ_df.rename(columns={'Total economic damage from natural disasters (US$)':'Cost'})\n",
    "df['Cost'] = df2['Cost']\n",
    "df.head()"
   ]
  },
  {
   "cell_type": "markdown",
   "metadata": {
    "slideshow": {
     "slide_type": "slide"
    }
   },
   "source": [
    "# Change in Economic Cost Over Time - Is it Normal?"
   ]
  },
  {
   "cell_type": "code",
   "execution_count": 34,
   "metadata": {
    "slideshow": {
     "slide_type": "subslide"
    }
   },
   "outputs": [
    {
     "data": {
      "image/png": "[encoded data removed]",
      "text/plain": [
       "<Figure size 432x288 with 1 Axes>"
      ]
     },
     "metadata": {
      "needs_background": "light"
     },
     "output_type": "display_data"
    }
   ],
   "source": [
    "dollars = df[df['Entity'] == 'All natural disasters']['Cost']\n",
    "plt.plot(years, dollars)\n",
    "plt.title('Cost of Nautral Disasters Globally, 1900-2018')\n",
    "plt.ylabel('Total Cost (USD)')\n",
    "plt.xlabel('Year')\n",
    "plt.show()"
   ]
  },
  {
   "cell_type": "markdown",
   "metadata": {
    "slideshow": {
     "slide_type": "subslide"
    }
   },
   "source": [
    "### Warning About the Above Time Series!\n",
    " I **do not** currently know whether or not the costs reported in the dataset are **adjusted for inflation.**\n",
    "\n",
    "If it turns out the costs are not, we can only take the distribution with a grain of salt. **We don't really know if the disasters are costlier in terms of value, or if it's just inflation making everything more expensive over time.**"
   ]
  },
  {
   "cell_type": "markdown",
   "metadata": {
    "slideshow": {
     "slide_type": "subslide"
    }
   },
   "source": [
    "# Heatmap"
   ]
  },
  {
   "cell_type": "code",
   "execution_count": 35,
   "metadata": {
    "slideshow": {
     "slide_type": "subslide"
    }
   },
   "outputs": [
    {
     "data": {
      "image/png": "[encoded data removed]",
      "text/plain": [
       "<Figure size 576x576 with 2 Axes>"
      ]
     },
     "metadata": {},
     "output_type": "display_data"
    }
   ],
   "source": [
    "# Credit to the Seaborn Documentation for inspiring this cell: https://seaborn.pydata.org/examples/many_pairwise_correlations.html\n",
    "sns.set(style=\"white\")\n",
    "# Compute the correlation matrix\n",
    "corr = df.corr()\n",
    "# Generate a mask for the upper triangle\n",
    "mask = np.triu(np.ones_like(corr, dtype=np.bool))\n",
    "# Set up the matplotlib figure\n",
    "f, ax = plt.subplots(figsize=(8, 8))\n",
    "# Generate a custom diverging colormap\n",
    "cmap = sns.diverging_palette(220, 10, as_cmap=True)\n",
    "# Draw the heatmap with the mask and correct aspect ratio\n",
    "sns.heatmap(corr, mask=mask, cmap=cmap, vmax=.3, center=0,\n",
    "            square=True, linewidths=.5, cbar_kws={\"shrink\": .5}, annot=True)\n",
    "plt.title('Covariance Between Costs Against Counts')\n",
    "plt.show()"
   ]
  },
  {
   "cell_type": "markdown",
   "metadata": {
    "slideshow": {
     "slide_type": "subslide"
    }
   },
   "source": [
    "## Correlations"
   ]
  },
  {
   "cell_type": "code",
   "execution_count": 36,
   "metadata": {
    "slideshow": {
     "slide_type": "subslide"
    }
   },
   "outputs": [
    {
     "name": "stdout",
     "output_type": "stream",
     "text": [
      "Correlation between cost of damages and disaster count: 0.7547597509253345.\n"
     ]
    }
   ],
   "source": [
    "def pearson_corr(x, y):\n",
    "    '''Given two lists of numbers x and y, return the value of their Pearson correlation coefficient.'''\n",
    "    x_mean = np.mean(x)\n",
    "    y_mean = np.mean(y)\n",
    "    num = [(i - x_mean)*(j - y_mean) for i,j in zip(x,y)]\n",
    "    den_1 = [(i - x_mean)**2 for i in x]\n",
    "    den_2 = [(j - y_mean)**2 for j in y]\n",
    "    correlation_x_y = np.sum(num)/np.sqrt(np.sum(den_1))/np.sqrt(np.sum(den_2))\n",
    "    return correlation_x_y\n",
    "\n",
    "# get a lists of the counts and the costs\n",
    "counts = df[(df['Entity'] == 'All natural disasters') & (df['Year'] <= 2018) & (df['Year'] >= 1900)]['Disaster Count']\n",
    "costs = df[(df['Entity'] == 'All natural disasters') & (df['Year'] <= 2018) & (df['Year'] >= 1900)]['Cost']\n",
    "corr_cost_count = pearson_corr(costs, counts)\n",
    "print(f'Correlation between cost of damages and disaster count: {corr_cost_count}.')"
   ]
  },
  {
   "cell_type": "markdown",
   "metadata": {
    "slideshow": {
     "slide_type": "slide"
    }
   },
   "source": [
    "# Null Hypothesis\n",
    "\n",
    "### We know that both the count and cost of total natural disasters annually, rises around the turn of the century.\n",
    "\n",
    "## Someone may claim,\n",
    "\n",
    "# The higher mean count of total natural disasters globally in the 21st century, will not cause more expensive costs due to disasters in this century than the one prior.\n",
    "\n",
    "## Do we accept or reject this?"
   ]
  },
  {
   "cell_type": "markdown",
   "metadata": {
    "slideshow": {
     "slide_type": "subslide"
    }
   },
   "source": [
    "# 1 Sample T-Test\n",
    "\n",
    "**Why?**\n",
    "\n",
    "This is 1 sample because as I'm sure you realize, Earth is the only planet like Earth for which we humans can calculate economic challenges due to natural disasters..\n",
    "\n",
    "\"The 1-sample t-test is used when we want to compare a sample mean to a population mean (which we already know).\" [quote from iaingallagher blog, \"t-tests in python\"](https://iaingallagher.tumblr.com/post/50980987285/t-tests-in-python).\n",
    "\n",
    "In our scenario we can already calculate the mean cost of natural disasters for all years 1900-2018, and then use the t-test to conclude whether the years in the 21st century are exceptionally high, when there were higher numbers of natural disasters (as shown earlier).\n"
   ]
  },
  {
   "cell_type": "code",
   "execution_count": 37,
   "metadata": {
    "slideshow": {
     "slide_type": "subslide"
    }
   },
   "outputs": [
    {
     "name": "stdout",
     "output_type": "stream",
     "text": [
      "The t-statistic is 4.985294152328724 and the p-value is 9.584483881890286e-05.\n"
     ]
    }
   ],
   "source": [
    "# 1-sample t-test\n",
    "# get a list of the costs of disasters for just the 21st century\n",
    "costs = df[df['Entity'] == 'All natural disasters']['Cost'].values\n",
    "costs_21 = df[(df['Entity'] == 'All natural disasters') & (df['Year'] <= 2018) & (df['Year'] >= 2000)]['Cost'].values\n",
    "\n",
    "# calculate the mean cost annually due to disasters, for whole population (1900-2018)\n",
    "pop_mean = costs.mean()\n",
    "\n",
    "# run the test\n",
    "t, p = stats.ttest_1samp(costs_21, pop_mean)\n",
    "\n",
    "# see the results\n",
    "print(f\"The t-statistic is {t} and the p-value is {p}.\")"
   ]
  },
  {
   "cell_type": "markdown",
   "metadata": {
    "slideshow": {
     "slide_type": "slide"
    }
   },
   "source": [
    "# Summary of Findings"
   ]
  },
  {
   "cell_type": "markdown",
   "metadata": {
    "slideshow": {
     "slide_type": "subslide"
    }
   },
   "source": [
    "# 1. Rising Above (and Below) the Mean\n",
    "\n",
    "## By the decade, the mean and median count of natural disasters rises throughout the 20th century, and have dropped (so far) during the 21st century.\n",
    "## Reason why? Possibly due to regression to the mean, because truly the natural disaster counts of the 2000's decade fluctuates up and down."
   ]
  },
  {
   "cell_type": "markdown",
   "metadata": {
    "slideshow": {
     "slide_type": "subslide"
    }
   },
   "source": [
    "# 2. Disasters in the 21st Century\n",
    "\n",
    "## The population subset of years 2000-2018 make up:\n",
    "- about 45% of all years that have above average number of total natural disasters (1900-2018)\n",
    "- and approximately 37.5% of those years that have above average number of total natural disasters, compared to the annual mean of the 20th century (1900-2000).\n"
   ]
  },
  {
   "cell_type": "markdown",
   "metadata": {
    "slideshow": {
     "slide_type": "subslide"
    }
   },
   "source": [
    "# 3. Distribution Across Centuries\n",
    "## The relative frequency of natural disasters within the first 18 years of this century, is nearly half to that of the entirety of the previous century."
   ]
  },
  {
   "cell_type": "markdown",
   "metadata": {
    "slideshow": {
     "slide_type": "subslide"
    }
   },
   "source": [
    "# 4. Skewing Our Data?\n",
    "## None of the natural diaster counts in our dataset constitute as outliers, suggesting some correlation is possible between how the counts have changed over time, with other variables."
   ]
  },
  {
   "cell_type": "markdown",
   "metadata": {
    "slideshow": {
     "slide_type": "subslide"
    }
   },
   "source": [
    "# 5: Correlation to Carbon Emissions\n",
    "\n",
    "## According to the data provided by the EIA, over the turn of the century the number of carbon emissions due to total electricity generation in the U.S. has decreased annually."
   ]
  },
  {
   "cell_type": "markdown",
   "metadata": {
    "slideshow": {
     "slide_type": "subslide"
    }
   },
   "source": [
    "# 6: Correlation to Economic Damages\n",
    "## Because the p-value of t-test  is less than 0.05, we can accept that as disasters go up, so will their costliness! \n",
    "\n",
    "## Perhaps we would already have expected this?\n",
    "\n",
    "## The amount that inflation factors into the cost is currently unknown."
   ]
  },
  {
   "cell_type": "markdown",
   "metadata": {},
   "source": [
    "# Scratch Work\n",
    "\n",
    "The below code is unrelated to the analysis above."
   ]
  },
  {
   "cell_type": "code",
   "execution_count": 38,
   "metadata": {},
   "outputs": [
    {
     "name": "stderr",
     "output_type": "stream",
     "text": [
      "<ipython-input-38-62bd62807a6d>:9: SettingWithCopyWarning: \n",
      "A value is trying to be set on a copy of a slice from a DataFrame.\n",
      "Try using .loc[row_indexer,col_indexer] = value instead\n",
      "\n",
      "See the caveats in the documentation: https://pandas.pydata.org/pandas-docs/stable/user_guide/indexing.html#returning-a-view-versus-a-copy\n",
      "  new_df[\"YYYYMM\"] = pd.to_datetime(new_df['YYYYMM'], format=\"%Y-%m\")\n"
     ]
    }
   ],
   "source": [
    "def convert_emission_times(path):\n",
    "    \"\"\"Converts all times in the emissions DataFrame into DateTime values.\"\"\"\n",
    "    # make a DF of the emissions CSV, wherever it's located\n",
    "    carbon_df = pd.read_csv(path)\n",
    "    # convert to strings\n",
    "    carbon_df['YYYYMM'] = [str(date)[:-2] + \"-\" + str(date)[-2:] for date in carbon_df['YYYYMM']]\n",
    "    # remove all dates in the 13th month\n",
    "    new_df = carbon_df[~carbon_df[\"YYYYMM\"].str.contains('-13')]\n",
    "    new_df[\"YYYYMM\"] = pd.to_datetime(new_df['YYYYMM'], format=\"%Y-%m\")\n",
    "    # convert to datetime\n",
    "    return new_df.fillna(0)\n",
    "\n",
    "df = convert_emission_times('./Data/carbon-emissions.csv')"
   ]
  },
  {
   "cell_type": "code",
   "execution_count": 39,
   "metadata": {},
   "outputs": [
    {
     "data": {
      "text/html": [
       "<div>\n",
       "<style scoped>\n",
       "    .dataframe tbody tr th:only-of-type {\n",
       "        vertical-align: middle;\n",
       "    }\n",
       "\n",
       "    .dataframe tbody tr th {\n",
       "        vertical-align: top;\n",
       "    }\n",
       "\n",
       "    .dataframe thead th {\n",
       "        text-align: right;\n",
       "    }\n",
       "</style>\n",
       "<table border=\"1\" class=\"dataframe\">\n",
       "  <thead>\n",
       "    <tr style=\"text-align: right;\">\n",
       "      <th></th>\n",
       "      <th>MSN</th>\n",
       "      <th>YYYYMM</th>\n",
       "      <th>Value</th>\n",
       "      <th>Column_Order</th>\n",
       "      <th>Description</th>\n",
       "      <th>Unit</th>\n",
       "    </tr>\n",
       "  </thead>\n",
       "  <tbody>\n",
       "    <tr>\n",
       "      <th>0</th>\n",
       "      <td>CLEIEUS</td>\n",
       "      <td>1973-01-01</td>\n",
       "      <td>72.076</td>\n",
       "      <td>1</td>\n",
       "      <td>Coal Electric Power Sector CO2 Emissions</td>\n",
       "      <td>Million Metric Tons of Carbon Dioxide</td>\n",
       "    </tr>\n",
       "    <tr>\n",
       "      <th>1</th>\n",
       "      <td>CLEIEUS</td>\n",
       "      <td>1973-02-01</td>\n",
       "      <td>64.442</td>\n",
       "      <td>1</td>\n",
       "      <td>Coal Electric Power Sector CO2 Emissions</td>\n",
       "      <td>Million Metric Tons of Carbon Dioxide</td>\n",
       "    </tr>\n",
       "    <tr>\n",
       "      <th>2</th>\n",
       "      <td>CLEIEUS</td>\n",
       "      <td>1973-03-01</td>\n",
       "      <td>64.084</td>\n",
       "      <td>1</td>\n",
       "      <td>Coal Electric Power Sector CO2 Emissions</td>\n",
       "      <td>Million Metric Tons of Carbon Dioxide</td>\n",
       "    </tr>\n",
       "    <tr>\n",
       "      <th>3</th>\n",
       "      <td>CLEIEUS</td>\n",
       "      <td>1973-04-01</td>\n",
       "      <td>60.842</td>\n",
       "      <td>1</td>\n",
       "      <td>Coal Electric Power Sector CO2 Emissions</td>\n",
       "      <td>Million Metric Tons of Carbon Dioxide</td>\n",
       "    </tr>\n",
       "    <tr>\n",
       "      <th>4</th>\n",
       "      <td>CLEIEUS</td>\n",
       "      <td>1973-05-01</td>\n",
       "      <td>61.798</td>\n",
       "      <td>1</td>\n",
       "      <td>Coal Electric Power Sector CO2 Emissions</td>\n",
       "      <td>Million Metric Tons of Carbon Dioxide</td>\n",
       "    </tr>\n",
       "  </tbody>\n",
       "</table>\n",
       "</div>"
      ],
      "text/plain": [
       "       MSN     YYYYMM   Value  Column_Order  \\\n",
       "0  CLEIEUS 1973-01-01  72.076             1   \n",
       "1  CLEIEUS 1973-02-01  64.442             1   \n",
       "2  CLEIEUS 1973-03-01  64.084             1   \n",
       "3  CLEIEUS 1973-04-01  60.842             1   \n",
       "4  CLEIEUS 1973-05-01  61.798             1   \n",
       "\n",
       "                                Description  \\\n",
       "0  Coal Electric Power Sector CO2 Emissions   \n",
       "1  Coal Electric Power Sector CO2 Emissions   \n",
       "2  Coal Electric Power Sector CO2 Emissions   \n",
       "3  Coal Electric Power Sector CO2 Emissions   \n",
       "4  Coal Electric Power Sector CO2 Emissions   \n",
       "\n",
       "                                    Unit  \n",
       "0  Million Metric Tons of Carbon Dioxide  \n",
       "1  Million Metric Tons of Carbon Dioxide  \n",
       "2  Million Metric Tons of Carbon Dioxide  \n",
       "3  Million Metric Tons of Carbon Dioxide  \n",
       "4  Million Metric Tons of Carbon Dioxide  "
      ]
     },
     "execution_count": 39,
     "metadata": {},
     "output_type": "execute_result"
    }
   ],
   "source": [
    "df.head()"
   ]
  },
  {
   "cell_type": "code",
   "execution_count": 40,
   "metadata": {},
   "outputs": [],
   "source": [
    "data = df.loc[\n",
    "            df['Description'] == \n",
    "                'Total Energy Electric Power Sector CO2 Emissions', \n",
    "            ['YYYYMM','Value']\n",
    "        ]"
   ]
  },
  {
   "cell_type": "code",
   "execution_count": 41,
   "metadata": {},
   "outputs": [
    {
     "data": {
      "text/html": [
       "<div>\n",
       "<style scoped>\n",
       "    .dataframe tbody tr th:only-of-type {\n",
       "        vertical-align: middle;\n",
       "    }\n",
       "\n",
       "    .dataframe tbody tr th {\n",
       "        vertical-align: top;\n",
       "    }\n",
       "\n",
       "    .dataframe thead th {\n",
       "        text-align: right;\n",
       "    }\n",
       "</style>\n",
       "<table border=\"1\" class=\"dataframe\">\n",
       "  <thead>\n",
       "    <tr style=\"text-align: right;\">\n",
       "      <th></th>\n",
       "      <th>YYYYMM</th>\n",
       "      <th>Value</th>\n",
       "    </tr>\n",
       "  </thead>\n",
       "  <tbody>\n",
       "    <tr>\n",
       "      <th>4528</th>\n",
       "      <td>1973-01-01</td>\n",
       "      <td>111.621</td>\n",
       "    </tr>\n",
       "    <tr>\n",
       "      <th>4529</th>\n",
       "      <td>1973-02-01</td>\n",
       "      <td>99.185</td>\n",
       "    </tr>\n",
       "    <tr>\n",
       "      <th>4530</th>\n",
       "      <td>1973-03-01</td>\n",
       "      <td>99.112</td>\n",
       "    </tr>\n",
       "    <tr>\n",
       "      <th>4531</th>\n",
       "      <td>1973-04-01</td>\n",
       "      <td>93.183</td>\n",
       "    </tr>\n",
       "    <tr>\n",
       "      <th>4532</th>\n",
       "      <td>1973-05-01</td>\n",
       "      <td>98.012</td>\n",
       "    </tr>\n",
       "    <tr>\n",
       "      <th>...</th>\n",
       "      <td>...</td>\n",
       "      <td>...</td>\n",
       "    </tr>\n",
       "    <tr>\n",
       "      <th>5089</th>\n",
       "      <td>2016-03-01</td>\n",
       "      <td>115.997</td>\n",
       "    </tr>\n",
       "    <tr>\n",
       "      <th>5090</th>\n",
       "      <td>2016-04-01</td>\n",
       "      <td>113.815</td>\n",
       "    </tr>\n",
       "    <tr>\n",
       "      <th>5091</th>\n",
       "      <td>2016-05-01</td>\n",
       "      <td>129.44</td>\n",
       "    </tr>\n",
       "    <tr>\n",
       "      <th>5092</th>\n",
       "      <td>2016-06-01</td>\n",
       "      <td>172.074</td>\n",
       "    </tr>\n",
       "    <tr>\n",
       "      <th>5093</th>\n",
       "      <td>2016-07-01</td>\n",
       "      <td>201.958</td>\n",
       "    </tr>\n",
       "  </tbody>\n",
       "</table>\n",
       "<p>523 rows × 2 columns</p>\n",
       "</div>"
      ],
      "text/plain": [
       "         YYYYMM    Value\n",
       "4528 1973-01-01  111.621\n",
       "4529 1973-02-01   99.185\n",
       "4530 1973-03-01   99.112\n",
       "4531 1973-04-01   93.183\n",
       "4532 1973-05-01   98.012\n",
       "...         ...      ...\n",
       "5089 2016-03-01  115.997\n",
       "5090 2016-04-01  113.815\n",
       "5091 2016-05-01   129.44\n",
       "5092 2016-06-01  172.074\n",
       "5093 2016-07-01  201.958\n",
       "\n",
       "[523 rows x 2 columns]"
      ]
     },
     "execution_count": 41,
     "metadata": {},
     "output_type": "execute_result"
    }
   ],
   "source": [
    "data"
   ]
  },
  {
   "cell_type": "code",
   "execution_count": 42,
   "metadata": {},
   "outputs": [],
   "source": [
    "sources = df['Description'].unique()"
   ]
  },
  {
   "cell_type": "code",
   "execution_count": 43,
   "metadata": {},
   "outputs": [
    {
     "ename": "ValueError",
     "evalue": "('Lengths must match to compare', (4707,), (9,))",
     "output_type": "error",
     "traceback": [
      "\u001b[0;31m---------------------------------------------------------------------------\u001b[0m",
      "\u001b[0;31mValueError\u001b[0m                                Traceback (most recent call last)",
      "\u001b[0;32m<ipython-input-43-3f3ba86d8df3>\u001b[0m in \u001b[0;36m<module>\u001b[0;34m\u001b[0m\n\u001b[1;32m      1\u001b[0m data = df.loc[\n\u001b[0;32m----> 2\u001b[0;31m             \u001b[0mdf\u001b[0m\u001b[0;34m[\u001b[0m\u001b[0;34m'Description'\u001b[0m\u001b[0;34m]\u001b[0m \u001b[0;34m==\u001b[0m \u001b[0msources\u001b[0m\u001b[0;34m,\u001b[0m\u001b[0;34m\u001b[0m\u001b[0;34m\u001b[0m\u001b[0m\n\u001b[0m\u001b[1;32m      3\u001b[0m             \u001b[0;34m[\u001b[0m\u001b[0;34m'YYYYMM'\u001b[0m\u001b[0;34m,\u001b[0m\u001b[0;34m'Value'\u001b[0m\u001b[0;34m]\u001b[0m\u001b[0;34m\u001b[0m\u001b[0;34m\u001b[0m\u001b[0m\n\u001b[1;32m      4\u001b[0m         ]\n",
      "\u001b[0;32m~/Downloads/dev/courses/Year_1_Term1_3/climate-change-analysis/env/lib/python3.8/site-packages/pandas/core/ops/common.py\u001b[0m in \u001b[0;36mnew_method\u001b[0;34m(self, other)\u001b[0m\n\u001b[1;32m     63\u001b[0m         \u001b[0mother\u001b[0m \u001b[0;34m=\u001b[0m \u001b[0mitem_from_zerodim\u001b[0m\u001b[0;34m(\u001b[0m\u001b[0mother\u001b[0m\u001b[0;34m)\u001b[0m\u001b[0;34m\u001b[0m\u001b[0;34m\u001b[0m\u001b[0m\n\u001b[1;32m     64\u001b[0m \u001b[0;34m\u001b[0m\u001b[0m\n\u001b[0;32m---> 65\u001b[0;31m         \u001b[0;32mreturn\u001b[0m \u001b[0mmethod\u001b[0m\u001b[0;34m(\u001b[0m\u001b[0mself\u001b[0m\u001b[0;34m,\u001b[0m \u001b[0mother\u001b[0m\u001b[0;34m)\u001b[0m\u001b[0;34m\u001b[0m\u001b[0;34m\u001b[0m\u001b[0m\n\u001b[0m\u001b[1;32m     66\u001b[0m \u001b[0;34m\u001b[0m\u001b[0m\n\u001b[1;32m     67\u001b[0m     \u001b[0;32mreturn\u001b[0m \u001b[0mnew_method\u001b[0m\u001b[0;34m\u001b[0m\u001b[0;34m\u001b[0m\u001b[0m\n",
      "\u001b[0;32m~/Downloads/dev/courses/Year_1_Term1_3/climate-change-analysis/env/lib/python3.8/site-packages/pandas/core/ops/__init__.py\u001b[0m in \u001b[0;36mwrapper\u001b[0;34m(self, other)\u001b[0m\n\u001b[1;32m    368\u001b[0m         \u001b[0mrvalues\u001b[0m \u001b[0;34m=\u001b[0m \u001b[0mextract_array\u001b[0m\u001b[0;34m(\u001b[0m\u001b[0mother\u001b[0m\u001b[0;34m,\u001b[0m \u001b[0mextract_numpy\u001b[0m\u001b[0;34m=\u001b[0m\u001b[0;32mTrue\u001b[0m\u001b[0;34m)\u001b[0m\u001b[0;34m\u001b[0m\u001b[0;34m\u001b[0m\u001b[0m\n\u001b[1;32m    369\u001b[0m \u001b[0;34m\u001b[0m\u001b[0m\n\u001b[0;32m--> 370\u001b[0;31m         \u001b[0mres_values\u001b[0m \u001b[0;34m=\u001b[0m \u001b[0mcomparison_op\u001b[0m\u001b[0;34m(\u001b[0m\u001b[0mlvalues\u001b[0m\u001b[0;34m,\u001b[0m \u001b[0mrvalues\u001b[0m\u001b[0;34m,\u001b[0m \u001b[0mop\u001b[0m\u001b[0;34m)\u001b[0m\u001b[0;34m\u001b[0m\u001b[0;34m\u001b[0m\u001b[0m\n\u001b[0m\u001b[1;32m    371\u001b[0m \u001b[0;34m\u001b[0m\u001b[0m\n\u001b[1;32m    372\u001b[0m         \u001b[0;32mreturn\u001b[0m \u001b[0mself\u001b[0m\u001b[0;34m.\u001b[0m\u001b[0m_construct_result\u001b[0m\u001b[0;34m(\u001b[0m\u001b[0mres_values\u001b[0m\u001b[0;34m,\u001b[0m \u001b[0mname\u001b[0m\u001b[0;34m=\u001b[0m\u001b[0mres_name\u001b[0m\u001b[0;34m)\u001b[0m\u001b[0;34m\u001b[0m\u001b[0;34m\u001b[0m\u001b[0m\n",
      "\u001b[0;32m~/Downloads/dev/courses/Year_1_Term1_3/climate-change-analysis/env/lib/python3.8/site-packages/pandas/core/ops/array_ops.py\u001b[0m in \u001b[0;36mcomparison_op\u001b[0;34m(left, right, op)\u001b[0m\n\u001b[1;32m    221\u001b[0m         \u001b[0;31m#  The ambiguous case is object-dtype.  See GH#27803\u001b[0m\u001b[0;34m\u001b[0m\u001b[0;34m\u001b[0m\u001b[0;34m\u001b[0m\u001b[0m\n\u001b[1;32m    222\u001b[0m         \u001b[0;32mif\u001b[0m \u001b[0mlen\u001b[0m\u001b[0;34m(\u001b[0m\u001b[0mlvalues\u001b[0m\u001b[0;34m)\u001b[0m \u001b[0;34m!=\u001b[0m \u001b[0mlen\u001b[0m\u001b[0;34m(\u001b[0m\u001b[0mrvalues\u001b[0m\u001b[0;34m)\u001b[0m\u001b[0;34m:\u001b[0m\u001b[0;34m\u001b[0m\u001b[0;34m\u001b[0m\u001b[0m\n\u001b[0;32m--> 223\u001b[0;31m             raise ValueError(\n\u001b[0m\u001b[1;32m    224\u001b[0m                 \u001b[0;34m\"Lengths must match to compare\"\u001b[0m\u001b[0;34m,\u001b[0m \u001b[0mlvalues\u001b[0m\u001b[0;34m.\u001b[0m\u001b[0mshape\u001b[0m\u001b[0;34m,\u001b[0m \u001b[0mrvalues\u001b[0m\u001b[0;34m.\u001b[0m\u001b[0mshape\u001b[0m\u001b[0;34m\u001b[0m\u001b[0;34m\u001b[0m\u001b[0m\n\u001b[1;32m    225\u001b[0m             )\n",
      "\u001b[0;31mValueError\u001b[0m: ('Lengths must match to compare', (4707,), (9,))"
     ]
    }
   ],
   "source": [
    "data = df.loc[\n",
    "            df['Description'] == sources, \n",
    "            ['YYYYMM','Value']\n",
    "        ]"
   ]
  },
  {
   "cell_type": "code",
   "execution_count": null,
   "metadata": {},
   "outputs": [],
   "source": [
    "df = convert_emission_times('./Data/carbon-emissions.csv')\n",
    "# pivot the df so each row shows the emissions of each source in that month\n",
    "new_df = df.pivot(index='YYYYMM', columns='Description', values='Value')\n",
    "# fill in NaN values for the energy generation with 0 for now\n",
    "# new_df = new_df.fillna(0)\n",
    "# type(new_df['Geothermal Energy Electric Power Sector CO2 Emissions'][0])"
   ]
  },
  {
   "cell_type": "code",
   "execution_count": null,
   "metadata": {},
   "outputs": [],
   "source": [
    "new_df"
   ]
  },
  {
   "cell_type": "code",
   "execution_count": null,
   "metadata": {},
   "outputs": [],
   "source": [
    "new_df['Geothermal Energy Electric Power Sector CO2 Emissions'].fillna(0)"
   ]
  },
  {
   "cell_type": "code",
   "execution_count": null,
   "metadata": {},
   "outputs": [],
   "source": [
    "values = list()\n",
    "for i, v in new_df['Geothermal Energy Electric Power Sector CO2 Emissions'].iteritems():\n",
    "    if v == 'Not Available':\n",
    "        values.append(0)\n",
    "    else:\n",
    "        values.append(v)\n",
    "        \n",
    "new_df['Geothermal Energy Electric Power Sector CO2 Emissions'] = values"
   ]
  },
  {
   "cell_type": "code",
   "execution_count": null,
   "metadata": {},
   "outputs": [],
   "source": [
    "new_df.index"
   ]
  },
  {
   "cell_type": "code",
   "execution_count": null,
   "metadata": {},
   "outputs": [],
   "source": [
    "import datetime \n",
    "\n",
    "selected_date_range = new_df[\n",
    "        (new_df.index >= datetime.datetime(1973, 1, 1)) &\n",
    "        (new_df.index <= datetime.datetime(1975, 12, 31))\n",
    "    ]"
   ]
  },
  {
   "cell_type": "code",
   "execution_count": null,
   "metadata": {},
   "outputs": [],
   "source": [
    "selected_date_range"
   ]
  },
  {
   "cell_type": "code",
   "execution_count": null,
   "metadata": {},
   "outputs": [],
   "source": [
    "cols = new_df.columns\n",
    "cols"
   ]
  },
  {
   "cell_type": "code",
   "execution_count": null,
   "metadata": {},
   "outputs": [],
   "source": [
    "requested_trend_data = selected_date_range[cols]"
   ]
  },
  {
   "cell_type": "code",
   "execution_count": null,
   "metadata": {},
   "outputs": [],
   "source": [
    "requested_trend_data "
   ]
  },
  {
   "cell_type": "code",
   "execution_count": null,
   "metadata": {},
   "outputs": [],
   "source": [
    "# set index to 0-indexed list\n",
    "dates = new_df.index\n",
    "\n",
    "new_df.index = range(len(dates))\n",
    "new_df['YYYYMM'] = dates\n",
    "new_df"
   ]
  },
  {
   "cell_type": "code",
   "execution_count": 59,
   "metadata": {},
   "outputs": [],
   "source": [
    "def clean_emission_data(path):\n",
    "    def fill_not_available(dataframe, column_name):\n",
    "        '''Fills in 0 for all values in the column that are populated by \"Not Available.\"'''\n",
    "        new_values = list()\n",
    "        for item in dataframe[column_name]:\n",
    "            # get the value to append\n",
    "            value = item\n",
    "            # if value is NaN, change to 0\n",
    "            if value == \"Not Available\":\n",
    "                value = 0\n",
    "            # add the value\n",
    "            new_values.append(value)\n",
    "        # reassign the column in the df\n",
    "        dataframe[column_name] = new_values\n",
    "        # return dataframe\n",
    "    \"\"\"Converts all times in the emissions DataFrame into DateTime values.\"\"\"\n",
    "    # make a DF of the emissions CSV, wherever it's located\n",
    "    carbon_df = pd.read_csv(path)\n",
    "    # store a list of the different sources\n",
    "    carbon_categories = carbon_df['Description'].unique()\n",
    "    # convert dates to strings\n",
    "    carbon_df['YYYYMM'] = [str(date)[:-2] + \"-\" + str(date)[-2:] for date in carbon_df['YYYYMM']]\n",
    "    # remove all dates in the 13th month\n",
    "    new_df = carbon_df[~carbon_df[\"YYYYMM\"].str.contains('-13')]\n",
    "    # convert to datetime\n",
    "    new_df[\"YYYYMM\"] = pd.to_datetime(new_df['YYYYMM'], format=\"%Y-%m\")\n",
    "    # give each energy source it's own column - now the date is the index\n",
    "    new_df = new_df.pivot(index='YYYYMM', columns='Description', values='Value')\n",
    "    # remove NaN values\n",
    "    for category in carbon_categories:\n",
    "        new_df = fill_not_available(new_df, category)\n",
    "    return new_df, carbon_categories"
   ]
  },
  {
   "cell_type": "code",
   "execution_count": 60,
   "metadata": {},
   "outputs": [
    {
     "name": "stderr",
     "output_type": "stream",
     "text": [
      "<ipython-input-59-e34a22e1b27d>:26: SettingWithCopyWarning: \n",
      "A value is trying to be set on a copy of a slice from a DataFrame.\n",
      "Try using .loc[row_indexer,col_indexer] = value instead\n",
      "\n",
      "See the caveats in the documentation: https://pandas.pydata.org/pandas-docs/stable/user_guide/indexing.html#returning-a-view-versus-a-copy\n",
      "  new_df[\"YYYYMM\"] = pd.to_datetime(new_df['YYYYMM'], format=\"%Y-%m\")\n"
     ]
    },
    {
     "ename": "TypeError",
     "evalue": "'NoneType' object is not subscriptable",
     "output_type": "error",
     "traceback": [
      "\u001b[0;31m---------------------------------------------------------------------------\u001b[0m",
      "\u001b[0;31mTypeError\u001b[0m                                 Traceback (most recent call last)",
      "\u001b[0;32m<ipython-input-60-de5a1540d99b>\u001b[0m in \u001b[0;36m<module>\u001b[0;34m\u001b[0m\n\u001b[0;32m----> 1\u001b[0;31m \u001b[0memissions_df\u001b[0m\u001b[0;34m,\u001b[0m \u001b[0mcarbon_categories\u001b[0m  \u001b[0;34m=\u001b[0m \u001b[0mclean_emission_data\u001b[0m\u001b[0;34m(\u001b[0m\u001b[0;34m'./Data/carbon-emissions.csv'\u001b[0m\u001b[0;34m)\u001b[0m\u001b[0;34m\u001b[0m\u001b[0;34m\u001b[0m\u001b[0m\n\u001b[0m",
      "\u001b[0;32m<ipython-input-59-e34a22e1b27d>\u001b[0m in \u001b[0;36mclean_emission_data\u001b[0;34m(path)\u001b[0m\n\u001b[1;32m     29\u001b[0m     \u001b[0;31m# remove NaN values\u001b[0m\u001b[0;34m\u001b[0m\u001b[0;34m\u001b[0m\u001b[0;34m\u001b[0m\u001b[0m\n\u001b[1;32m     30\u001b[0m     \u001b[0;32mfor\u001b[0m \u001b[0mcategory\u001b[0m \u001b[0;32min\u001b[0m \u001b[0mcarbon_categories\u001b[0m\u001b[0;34m:\u001b[0m\u001b[0;34m\u001b[0m\u001b[0;34m\u001b[0m\u001b[0m\n\u001b[0;32m---> 31\u001b[0;31m         \u001b[0mnew_df\u001b[0m \u001b[0;34m=\u001b[0m \u001b[0mfill_not_available\u001b[0m\u001b[0;34m(\u001b[0m\u001b[0mnew_df\u001b[0m\u001b[0;34m,\u001b[0m \u001b[0mcategory\u001b[0m\u001b[0;34m)\u001b[0m\u001b[0;34m\u001b[0m\u001b[0;34m\u001b[0m\u001b[0m\n\u001b[0m\u001b[1;32m     32\u001b[0m     \u001b[0;32mreturn\u001b[0m \u001b[0mnew_df\u001b[0m\u001b[0;34m,\u001b[0m \u001b[0mcarbon_categories\u001b[0m\u001b[0;34m\u001b[0m\u001b[0;34m\u001b[0m\u001b[0m\n",
      "\u001b[0;32m<ipython-input-59-e34a22e1b27d>\u001b[0m in \u001b[0;36mfill_not_available\u001b[0;34m(dataframe, column_name)\u001b[0m\n\u001b[1;32m      3\u001b[0m         \u001b[0;34m'''Fills in 0 for all values in the column that are populated by \"Not Available.\"'''\u001b[0m\u001b[0;34m\u001b[0m\u001b[0;34m\u001b[0m\u001b[0m\n\u001b[1;32m      4\u001b[0m         \u001b[0mnew_values\u001b[0m \u001b[0;34m=\u001b[0m \u001b[0mlist\u001b[0m\u001b[0;34m(\u001b[0m\u001b[0;34m)\u001b[0m\u001b[0;34m\u001b[0m\u001b[0;34m\u001b[0m\u001b[0m\n\u001b[0;32m----> 5\u001b[0;31m         \u001b[0;32mfor\u001b[0m \u001b[0mitem\u001b[0m \u001b[0;32min\u001b[0m \u001b[0mdataframe\u001b[0m\u001b[0;34m[\u001b[0m\u001b[0mcolumn_name\u001b[0m\u001b[0;34m]\u001b[0m\u001b[0;34m:\u001b[0m\u001b[0;34m\u001b[0m\u001b[0;34m\u001b[0m\u001b[0m\n\u001b[0m\u001b[1;32m      6\u001b[0m             \u001b[0;31m# get the value to append\u001b[0m\u001b[0;34m\u001b[0m\u001b[0;34m\u001b[0m\u001b[0;34m\u001b[0m\u001b[0m\n\u001b[1;32m      7\u001b[0m             \u001b[0mvalue\u001b[0m \u001b[0;34m=\u001b[0m \u001b[0mitem\u001b[0m\u001b[0;34m\u001b[0m\u001b[0;34m\u001b[0m\u001b[0m\n",
      "\u001b[0;31mTypeError\u001b[0m: 'NoneType' object is not subscriptable"
     ]
    }
   ],
   "source": [
    "emissions_df, carbon_categories  = clean_emission_data('./Data/carbon-emissions.csv')"
   ]
  },
  {
   "cell_type": "code",
   "execution_count": 61,
   "metadata": {},
   "outputs": [
    {
     "data": {
      "text/html": [
       "<div>\n",
       "<style scoped>\n",
       "    .dataframe tbody tr th:only-of-type {\n",
       "        vertical-align: middle;\n",
       "    }\n",
       "\n",
       "    .dataframe tbody tr th {\n",
       "        vertical-align: top;\n",
       "    }\n",
       "\n",
       "    .dataframe thead th {\n",
       "        text-align: right;\n",
       "    }\n",
       "</style>\n",
       "<table border=\"1\" class=\"dataframe\">\n",
       "  <thead>\n",
       "    <tr style=\"text-align: right;\">\n",
       "      <th>Description</th>\n",
       "      <th>Coal Electric Power Sector CO2 Emissions</th>\n",
       "      <th>Distillate Fuel, Including Kerosene-Type Jet Fuel, Oil Electric Power Sector CO2 Emissions</th>\n",
       "      <th>Geothermal Energy Electric Power Sector CO2 Emissions</th>\n",
       "      <th>Natural Gas Electric Power Sector CO2 Emissions</th>\n",
       "      <th>Non-Biomass Waste Electric Power Sector CO2 Emissions</th>\n",
       "      <th>Petroleum Coke Electric Power Sector CO2 Emissions</th>\n",
       "      <th>Petroleum Electric Power Sector CO2 Emissions</th>\n",
       "      <th>Residual Fuel Oil Electric Power Sector CO2 Emissions</th>\n",
       "      <th>Total Energy Electric Power Sector CO2 Emissions</th>\n",
       "    </tr>\n",
       "    <tr>\n",
       "      <th>YYYYMM</th>\n",
       "      <th></th>\n",
       "      <th></th>\n",
       "      <th></th>\n",
       "      <th></th>\n",
       "      <th></th>\n",
       "      <th></th>\n",
       "      <th></th>\n",
       "      <th></th>\n",
       "      <th></th>\n",
       "    </tr>\n",
       "  </thead>\n",
       "  <tbody>\n",
       "    <tr>\n",
       "      <th>1973-01-01</th>\n",
       "      <td>72.076</td>\n",
       "      <td>2.375</td>\n",
       "      <td>0</td>\n",
       "      <td>12.175</td>\n",
       "      <td>0</td>\n",
       "      <td>.128</td>\n",
       "      <td>27.369</td>\n",
       "      <td>24.867</td>\n",
       "      <td>111.621</td>\n",
       "    </tr>\n",
       "    <tr>\n",
       "      <th>1973-02-01</th>\n",
       "      <td>64.442</td>\n",
       "      <td>2.061</td>\n",
       "      <td>0</td>\n",
       "      <td>11.708</td>\n",
       "      <td>0</td>\n",
       "      <td>.106</td>\n",
       "      <td>23.034</td>\n",
       "      <td>20.867</td>\n",
       "      <td>99.185</td>\n",
       "    </tr>\n",
       "    <tr>\n",
       "      <th>1973-03-01</th>\n",
       "      <td>64.084</td>\n",
       "      <td>1.171</td>\n",
       "      <td>0</td>\n",
       "      <td>13.994</td>\n",
       "      <td>0</td>\n",
       "      <td>.083</td>\n",
       "      <td>21.034</td>\n",
       "      <td>19.78</td>\n",
       "      <td>99.112</td>\n",
       "    </tr>\n",
       "    <tr>\n",
       "      <th>1973-04-01</th>\n",
       "      <td>60.842</td>\n",
       "      <td>1.022</td>\n",
       "      <td>0</td>\n",
       "      <td>14.627</td>\n",
       "      <td>0</td>\n",
       "      <td>.13</td>\n",
       "      <td>17.714</td>\n",
       "      <td>16.562</td>\n",
       "      <td>93.183</td>\n",
       "    </tr>\n",
       "    <tr>\n",
       "      <th>1973-05-01</th>\n",
       "      <td>61.798</td>\n",
       "      <td>.949</td>\n",
       "      <td>0</td>\n",
       "      <td>17.344</td>\n",
       "      <td>0</td>\n",
       "      <td>.167</td>\n",
       "      <td>18.87</td>\n",
       "      <td>17.754</td>\n",
       "      <td>98.012</td>\n",
       "    </tr>\n",
       "    <tr>\n",
       "      <th>...</th>\n",
       "      <td>...</td>\n",
       "      <td>...</td>\n",
       "      <td>...</td>\n",
       "      <td>...</td>\n",
       "      <td>...</td>\n",
       "      <td>...</td>\n",
       "      <td>...</td>\n",
       "      <td>...</td>\n",
       "      <td>...</td>\n",
       "    </tr>\n",
       "    <tr>\n",
       "      <th>2016-03-01</th>\n",
       "      <td>72.84</td>\n",
       "      <td>.279</td>\n",
       "      <td>.035</td>\n",
       "      <td>40.525</td>\n",
       "      <td>.943</td>\n",
       "      <td>1.041</td>\n",
       "      <td>1.654</td>\n",
       "      <td>.334</td>\n",
       "      <td>115.997</td>\n",
       "    </tr>\n",
       "    <tr>\n",
       "      <th>2016-04-01</th>\n",
       "      <td>71.41</td>\n",
       "      <td>.259</td>\n",
       "      <td>.034</td>\n",
       "      <td>39.763</td>\n",
       "      <td>.912</td>\n",
       "      <td>1.096</td>\n",
       "      <td>1.695</td>\n",
       "      <td>.34</td>\n",
       "      <td>113.815</td>\n",
       "    </tr>\n",
       "    <tr>\n",
       "      <th>2016-05-01</th>\n",
       "      <td>82.51</td>\n",
       "      <td>.34</td>\n",
       "      <td>.035</td>\n",
       "      <td>44.21</td>\n",
       "      <td>.943</td>\n",
       "      <td>1.035</td>\n",
       "      <td>1.743</td>\n",
       "      <td>.368</td>\n",
       "      <td>129.44</td>\n",
       "    </tr>\n",
       "    <tr>\n",
       "      <th>2016-06-01</th>\n",
       "      <td>115.772</td>\n",
       "      <td>.293</td>\n",
       "      <td>.034</td>\n",
       "      <td>53.567</td>\n",
       "      <td>.912</td>\n",
       "      <td>1.075</td>\n",
       "      <td>1.789</td>\n",
       "      <td>.42</td>\n",
       "      <td>172.074</td>\n",
       "    </tr>\n",
       "    <tr>\n",
       "      <th>2016-07-01</th>\n",
       "      <td>135.958</td>\n",
       "      <td>.342</td>\n",
       "      <td>.035</td>\n",
       "      <td>62.881</td>\n",
       "      <td>.943</td>\n",
       "      <td>1.137</td>\n",
       "      <td>2.141</td>\n",
       "      <td>.662</td>\n",
       "      <td>201.958</td>\n",
       "    </tr>\n",
       "  </tbody>\n",
       "</table>\n",
       "<p>523 rows × 9 columns</p>\n",
       "</div>"
      ],
      "text/plain": [
       "Description Coal Electric Power Sector CO2 Emissions  \\\n",
       "YYYYMM                                                 \n",
       "1973-01-01                                    72.076   \n",
       "1973-02-01                                    64.442   \n",
       "1973-03-01                                    64.084   \n",
       "1973-04-01                                    60.842   \n",
       "1973-05-01                                    61.798   \n",
       "...                                              ...   \n",
       "2016-03-01                                     72.84   \n",
       "2016-04-01                                     71.41   \n",
       "2016-05-01                                     82.51   \n",
       "2016-06-01                                   115.772   \n",
       "2016-07-01                                   135.958   \n",
       "\n",
       "Description Distillate Fuel, Including Kerosene-Type Jet Fuel, Oil Electric Power Sector CO2 Emissions  \\\n",
       "YYYYMM                                                                                                   \n",
       "1973-01-01                                               2.375                                           \n",
       "1973-02-01                                               2.061                                           \n",
       "1973-03-01                                               1.171                                           \n",
       "1973-04-01                                               1.022                                           \n",
       "1973-05-01                                                .949                                           \n",
       "...                                                        ...                                           \n",
       "2016-03-01                                                .279                                           \n",
       "2016-04-01                                                .259                                           \n",
       "2016-05-01                                                 .34                                           \n",
       "2016-06-01                                                .293                                           \n",
       "2016-07-01                                                .342                                           \n",
       "\n",
       "Description Geothermal Energy Electric Power Sector CO2 Emissions  \\\n",
       "YYYYMM                                                              \n",
       "1973-01-01                                                   0      \n",
       "1973-02-01                                                   0      \n",
       "1973-03-01                                                   0      \n",
       "1973-04-01                                                   0      \n",
       "1973-05-01                                                   0      \n",
       "...                                                        ...      \n",
       "2016-03-01                                                .035      \n",
       "2016-04-01                                                .034      \n",
       "2016-05-01                                                .035      \n",
       "2016-06-01                                                .034      \n",
       "2016-07-01                                                .035      \n",
       "\n",
       "Description Natural Gas Electric Power Sector CO2 Emissions  \\\n",
       "YYYYMM                                                        \n",
       "1973-01-01                                           12.175   \n",
       "1973-02-01                                           11.708   \n",
       "1973-03-01                                           13.994   \n",
       "1973-04-01                                           14.627   \n",
       "1973-05-01                                           17.344   \n",
       "...                                                     ...   \n",
       "2016-03-01                                           40.525   \n",
       "2016-04-01                                           39.763   \n",
       "2016-05-01                                            44.21   \n",
       "2016-06-01                                           53.567   \n",
       "2016-07-01                                           62.881   \n",
       "\n",
       "Description Non-Biomass Waste Electric Power Sector CO2 Emissions  \\\n",
       "YYYYMM                                                              \n",
       "1973-01-01                                                   0      \n",
       "1973-02-01                                                   0      \n",
       "1973-03-01                                                   0      \n",
       "1973-04-01                                                   0      \n",
       "1973-05-01                                                   0      \n",
       "...                                                        ...      \n",
       "2016-03-01                                                .943      \n",
       "2016-04-01                                                .912      \n",
       "2016-05-01                                                .943      \n",
       "2016-06-01                                                .912      \n",
       "2016-07-01                                                .943      \n",
       "\n",
       "Description Petroleum Coke Electric Power Sector CO2 Emissions  \\\n",
       "YYYYMM                                                           \n",
       "1973-01-01                                                .128   \n",
       "1973-02-01                                                .106   \n",
       "1973-03-01                                                .083   \n",
       "1973-04-01                                                 .13   \n",
       "1973-05-01                                                .167   \n",
       "...                                                        ...   \n",
       "2016-03-01                                               1.041   \n",
       "2016-04-01                                               1.096   \n",
       "2016-05-01                                               1.035   \n",
       "2016-06-01                                               1.075   \n",
       "2016-07-01                                               1.137   \n",
       "\n",
       "Description Petroleum Electric Power Sector CO2 Emissions  \\\n",
       "YYYYMM                                                      \n",
       "1973-01-01                                         27.369   \n",
       "1973-02-01                                         23.034   \n",
       "1973-03-01                                         21.034   \n",
       "1973-04-01                                         17.714   \n",
       "1973-05-01                                          18.87   \n",
       "...                                                   ...   \n",
       "2016-03-01                                          1.654   \n",
       "2016-04-01                                          1.695   \n",
       "2016-05-01                                          1.743   \n",
       "2016-06-01                                          1.789   \n",
       "2016-07-01                                          2.141   \n",
       "\n",
       "Description Residual Fuel Oil Electric Power Sector CO2 Emissions  \\\n",
       "YYYYMM                                                              \n",
       "1973-01-01                                              24.867      \n",
       "1973-02-01                                              20.867      \n",
       "1973-03-01                                               19.78      \n",
       "1973-04-01                                              16.562      \n",
       "1973-05-01                                              17.754      \n",
       "...                                                        ...      \n",
       "2016-03-01                                                .334      \n",
       "2016-04-01                                                 .34      \n",
       "2016-05-01                                                .368      \n",
       "2016-06-01                                                 .42      \n",
       "2016-07-01                                                .662      \n",
       "\n",
       "Description Total Energy Electric Power Sector CO2 Emissions  \n",
       "YYYYMM                                                        \n",
       "1973-01-01                                           111.621  \n",
       "1973-02-01                                            99.185  \n",
       "1973-03-01                                            99.112  \n",
       "1973-04-01                                            93.183  \n",
       "1973-05-01                                            98.012  \n",
       "...                                                      ...  \n",
       "2016-03-01                                           115.997  \n",
       "2016-04-01                                           113.815  \n",
       "2016-05-01                                            129.44  \n",
       "2016-06-01                                           172.074  \n",
       "2016-07-01                                           201.958  \n",
       "\n",
       "[523 rows x 9 columns]"
      ]
     },
     "execution_count": 61,
     "metadata": {},
     "output_type": "execute_result"
    }
   ],
   "source": [
    "emissions_df"
   ]
  },
  {
   "cell_type": "code",
   "execution_count": null,
   "metadata": {},
   "outputs": [],
   "source": []
  }
 ],
 "metadata": {
  "celltoolbar": "Slideshow",
  "kernelspec": {
   "display_name": "Python 3",
   "language": "python",
   "name": "python3"
  },
  "language_info": {
   "codemirror_mode": {
    "name": "ipython",
    "version": 3
   },
   "file_extension": ".py",
   "mimetype": "text/x-python",
   "name": "python",
   "nbconvert_exporter": "python",
   "pygments_lexer": "ipython3",
   "version": "3.8.5"
  }
 },
 "nbformat": 4,
 "nbformat_minor": 4
}
